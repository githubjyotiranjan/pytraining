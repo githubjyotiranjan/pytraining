{
 "cells": [
  {
   "cell_type": "code",
   "execution_count": 2,
   "metadata": {},
   "outputs": [
    {
     "name": "stdout",
     "output_type": "stream",
     "text": [
      "[[ 0  1  2  3  4  5  6  7  8  9]\n",
      " [10 11 12 13 14 15 16 17 18 19]\n",
      " [20 21 22 23 24 25 26 27 28 29]\n",
      " [30 31 32 33 34 35 36 37 38 39]\n",
      " [40 41 42 43 44 45 46 47 48 49]\n",
      " [50 51 52 53 54 55 56 57 58 59]\n",
      " [60 61 62 63 64 65 66 67 68 69]\n",
      " [70 71 72 73 74 75 76 77 78 79]\n",
      " [80 81 82 83 84 85 86 87 88 89]\n",
      " [90 91 92 93 94 95 96 97 98 99]]\n"
     ]
    }
   ],
   "source": [
    "#create array and reshape\n",
    "\n",
    "import numpy as np\n",
    "arr = np.arange(0,100)\n",
    "print(arr.reshape(10,10))\n"
   ]
  },
  {
   "cell_type": "code",
   "execution_count": 13,
   "metadata": {},
   "outputs": [
    {
     "name": "stdout",
     "output_type": "stream",
     "text": [
      "[0.         0.33333333 0.66666667 1.        ]\n",
      "[0.         0.05263158 0.10526316 0.15789474 0.21052632 0.26315789\n",
      " 0.31578947 0.36842105 0.42105263 0.47368421 0.52631579 0.57894737\n",
      " 0.63157895 0.68421053 0.73684211 0.78947368 0.84210526 0.89473684\n",
      " 0.94736842 1.        ]\n"
     ]
    }
   ],
   "source": [
    "# Create an array of 20 linearly spaced points between 0 and 1\n",
    "import numpy as np\n",
    "print(np.linspace(0,1,4))\n",
    "print(np.linspace(0,1,20))"
   ]
  },
  {
   "cell_type": "code",
   "execution_count": 34,
   "metadata": {},
   "outputs": [
    {
     "name": "stdout",
     "output_type": "stream",
     "text": [
      "[[ 0  1  2  3  4  5]\n",
      " [ 6  7  8  9 10 11]\n",
      " [12 13 14 15 16 17]\n",
      " [18 19 20 21 22 23]\n",
      " [24 25 26 27 28 29]\n",
      " [30 31 32 33 34 35]]\n"
     ]
    }
   ],
   "source": [
    "import numpy as np\n",
    "print(np.arange(0,36).reshape(6,6))"
   ]
  },
  {
   "cell_type": "code",
   "execution_count": 39,
   "metadata": {},
   "outputs": [
    {
     "name": "stdout",
     "output_type": "stream",
     "text": [
      "[[ 1  2  3  4  5]\n",
      " [ 6  7  8  9 10]\n",
      " [11 12 13 14 15]\n",
      " [16 17 18 19 20]\n",
      " [21 22 23 24 25]]\n"
     ]
    }
   ],
   "source": [
    "import numpy as np\n",
    "print(np.arange(1,26).reshape(5,5))"
   ]
  },
  {
   "cell_type": "code",
   "execution_count": 42,
   "metadata": {},
   "outputs": [
    {
     "name": "stdout",
     "output_type": "stream",
     "text": [
      "[[11 12]\n",
      " [16 17]\n",
      " [21 22]]\n"
     ]
    }
   ],
   "source": [
    "import numpy as np\n",
    "print(np.arange(1,26).reshape(5,5)[2:,:2])\n"
   ]
  },
  {
   "cell_type": "code",
   "execution_count": null,
   "metadata": {},
   "outputs": [],
   "source": [
    "#list is kind of matrix(vector)"
   ]
  },
  {
   "cell_type": "code",
   "execution_count": 51,
   "metadata": {},
   "outputs": [
    {
     "name": "stdout",
     "output_type": "stream",
     "text": [
      "[[10]]\n"
     ]
    }
   ],
   "source": [
    "import numpy as np\n",
    "print(np.arange(1,26).reshape(5,5)[1:2,4:])"
   ]
  },
  {
   "cell_type": "markdown",
   "metadata": {},
   "source": [
    "# pandas"
   ]
  },
  {
   "cell_type": "code",
   "execution_count": 64,
   "metadata": {},
   "outputs": [
    {
     "name": "stdout",
     "output_type": "stream",
     "text": [
      "a    1\n",
      "b    2\n",
      "c    3\n",
      "dtype: int64\n",
      "0    1\n",
      "1    2\n",
      "2    3\n",
      "dtype: int32\n",
      "a    1\n",
      "b    2\n",
      "c    3\n",
      "dtype: int64\n"
     ]
    }
   ],
   "source": [
    "import numpy as np\n",
    "import pandas as pd\n",
    "lables = ['a','b','c']\n",
    "mylist = [1,2,3]\n",
    "arr = np.array([1,2,3])\n",
    "d = {'a':1,'b':2,'c':3}\n",
    "print(pd.Series(mylist,lables))\n",
    "print(pd.Series(arr))\n",
    "print(pd.Series(d))"
   ]
  },
  {
   "cell_type": "code",
   "execution_count": 67,
   "metadata": {},
   "outputs": [
    {
     "name": "stdout",
     "output_type": "stream",
     "text": [
      "Guru    1\n",
      "Samy    2\n",
      "dtype: int64\n"
     ]
    }
   ],
   "source": [
    "# ordered pair\n",
    "import pandas as pd\n",
    "print(pd.Series([1,2],index=['Guru',\"Samy\"]))"
   ]
  },
  {
   "cell_type": "code",
   "execution_count": 117,
   "metadata": {},
   "outputs": [
    {
     "name": "stdout",
     "output_type": "stream",
     "text": [
      "---------Table---------\n",
      "          W         X         Y         Z\n",
      "A -0.187735  2.440637 -0.940908  0.613912\n",
      "B  0.735627  0.972918  0.259195 -0.074075\n",
      "C -0.177688 -0.838744 -0.156287 -0.341762\n",
      "D  0.818730 -0.092614  0.508081 -1.754222\n",
      "E -0.364818 -0.030919 -0.126144  0.299181\n",
      "---------Select single column---------\n",
      "A   -0.187735\n",
      "B    0.735627\n",
      "C   -0.177688\n",
      "D    0.818730\n",
      "E   -0.364818\n",
      "Name: W, dtype: float64\n",
      "---------Select multiple column---------\n",
      "          W         X\n",
      "A -0.187735  2.440637\n",
      "B  0.735627  0.972918\n",
      "C -0.177688 -0.838744\n",
      "D  0.818730 -0.092614\n",
      "E -0.364818 -0.030919\n",
      "---------Alter the table - operation +---------\n",
      "          W         X         Y         Z       new\n",
      "A -0.187735  2.440637 -0.940908  0.613912  2.252902\n",
      "B  0.735627  0.972918  0.259195 -0.074075  1.708545\n",
      "C -0.177688 -0.838744 -0.156287 -0.341762 -1.016432\n",
      "D  0.818730 -0.092614  0.508081 -1.754222  0.726116\n",
      "E -0.364818 -0.030919 -0.126144  0.299181 -0.395737\n",
      "---------Alter the table - operation / ---------\n",
      "          W         X         Y         Z       new       new1\n",
      "A -0.187735  2.440637 -0.940908  0.613912  2.252902  -0.076920\n",
      "B  0.735627  0.972918  0.259195 -0.074075  1.708545   0.756104\n",
      "C -0.177688 -0.838744 -0.156287 -0.341762 -1.016432   0.211850\n",
      "D  0.818730 -0.092614  0.508081 -1.754222  0.726116  -8.840249\n",
      "E -0.364818 -0.030919 -0.126144  0.299181 -0.395737  11.799325\n",
      "---------Alter the table - operation *---------\n",
      "          W         X         Y         Z       new       new1      new2\n",
      "A -0.187735  2.440637 -0.940908  0.613912  2.252902  -0.076920 -4.581928\n",
      "B  0.735627  0.972918  0.259195 -0.074075  1.708545   0.756104  7.157043\n",
      "C -0.177688 -0.838744 -0.156287 -0.341762 -1.016432   0.211850  1.490347\n",
      "D  0.818730 -0.092614  0.508081 -1.754222  0.726116  -8.840249 -0.758258\n",
      "E -0.364818 -0.030919 -0.126144  0.299181 -0.395737  11.799325  0.112796\n",
      "--------drop the column---------\n",
      "          W         X         Y         Z       new1      new2\n",
      "A -0.187735  2.440637 -0.940908  0.613912  -0.076920 -4.581928\n",
      "B  0.735627  0.972918  0.259195 -0.074075   0.756104  7.157043\n",
      "C -0.177688 -0.838744 -0.156287 -0.341762   0.211850  1.490347\n",
      "D  0.818730 -0.092614  0.508081 -1.754222  -8.840249 -0.758258\n",
      "E -0.364818 -0.030919 -0.126144  0.299181  11.799325  0.112796\n",
      "--------drop the column permenently---------\n",
      "          W         X         Y         Z       new       new1\n",
      "A -0.187735  2.440637 -0.940908  0.613912  2.252902  -0.076920\n",
      "B  0.735627  0.972918  0.259195 -0.074075  1.708545   0.756104\n",
      "C -0.177688 -0.838744 -0.156287 -0.341762 -1.016432   0.211850\n",
      "D  0.818730 -0.092614  0.508081 -1.754222  0.726116  -8.840249\n",
      "E -0.364818 -0.030919 -0.126144  0.299181 -0.395737  11.799325\n",
      "--------drop the rows---------\n",
      "          W         X         Y         Z       new      new1\n",
      "A -0.187735  2.440637 -0.940908  0.613912  2.252902 -0.076920\n",
      "B  0.735627  0.972918  0.259195 -0.074075  1.708545  0.756104\n",
      "C -0.177688 -0.838744 -0.156287 -0.341762 -1.016432  0.211850\n",
      "D  0.818730 -0.092614  0.508081 -1.754222  0.726116 -8.840249\n",
      "--------Select the row---------\n",
      "W      -0.187735\n",
      "X       2.440637\n",
      "Y      -0.940908\n",
      "Z       0.613912\n",
      "new     2.252902\n",
      "new1   -0.076920\n",
      "Name: A, dtype: float64\n",
      "--------Select the row based on index---------\n",
      "W       0.735627\n",
      "X       0.972918\n",
      "Y       0.259195\n",
      "Z      -0.074075\n",
      "new     1.708545\n",
      "new1    0.756104\n",
      "Name: B, dtype: float64\n",
      "--------Select the subset of rows and columns---------\n",
      "          W         X         Y         Z       new      new1\n",
      "B  0.735627  0.972918  0.259195 -0.074075  1.708545  0.756104\n",
      "C -0.177688 -0.838744 -0.156287 -0.341762 -1.016432  0.211850\n",
      "--------Select the values based on conditions---------\n",
      "       W      X      Y      Z    new   new1\n",
      "A  False   True  False   True   True  False\n",
      "B   True   True   True  False   True   True\n",
      "C  False  False  False  False  False   True\n",
      "D   True  False   True  False   True  False\n",
      "E  False  False  False   True  False   True\n",
      "          W         X         Y         Z       new      new1\n",
      "B  0.735627  0.972918  0.259195 -0.074075  1.708545  0.756104\n",
      "D  0.818730 -0.092614  0.508081 -1.754222  0.726116 -8.840249\n",
      "--------Select the values based on conditions specific column---------\n",
      "B    0.259195\n",
      "D    0.508081\n",
      "Name: Y, dtype: float64\n",
      "--------Select the values based on conditions specific column---------\n",
      "Empty DataFrame\n",
      "Columns: [W, X, Y, Z, new, new1]\n",
      "Index: []\n",
      "--------Add column with value(index)---------\n",
      "          W         X         Y         Z       new       new1 Serial\n",
      "A -0.187735  2.440637 -0.940908  0.613912  2.252902  -0.076920     CA\n",
      "B  0.735627  0.972918  0.259195 -0.074075  1.708545   0.756104     DS\n",
      "C -0.177688 -0.838744 -0.156287 -0.341762 -1.016432   0.211850     AR\n",
      "D  0.818730 -0.092614  0.508081 -1.754222  0.726116  -8.840249     FR\n",
      "E -0.364818 -0.030919 -0.126144  0.299181 -0.395737  11.799325     GT\n",
      "--------Change |Index---------\n",
      "               W         X         Y         Z       new       new1\n",
      "Serial                                                             \n",
      "CA     -0.187735  2.440637 -0.940908  0.613912  2.252902  -0.076920\n",
      "DS      0.735627  0.972918  0.259195 -0.074075  1.708545   0.756104\n",
      "AR     -0.177688 -0.838744 -0.156287 -0.341762 -1.016432   0.211850\n",
      "FR      0.818730 -0.092614  0.508081 -1.754222  0.726116  -8.840249\n",
      "GT     -0.364818 -0.030919 -0.126144  0.299181 -0.395737  11.799325\n"
     ]
    }
   ],
   "source": [
    "#Data frame - are nothing but a table\n",
    "import numpy as np\n",
    "from numpy.random import randn\n",
    "import pandas as pd\n",
    "np.random.seed(109)\n",
    "df = pd.DataFrame(randn(5,4),index='A B C D E'.split(),columns='W X Y Z'.split())\n",
    "print(\"---------Table---------\")\n",
    "print(df) # table\n",
    "print(\"---------Select single column---------\")\n",
    "print(df['W']) # Select single column\n",
    "\n",
    "print(\"---------Select multiple column---------\")\n",
    "print(df[['W','X']]) # Select multiple column\n",
    "\n",
    "print(\"---------Alter the table - operation +---------\")\n",
    "df['new'] = df['W']+ df['X'] # Alter the table - operation\n",
    "print(df) # Alter the table - result\n",
    "\n",
    "print(\"---------Alter the table - operation / ---------\")\n",
    "df['new1'] = df['W'] / df['X'] # Alter the table - operation\n",
    "print(df) # Alter the table - result\n",
    "\n",
    "print(\"---------Alter the table - operation *---------\")\n",
    "df['new2'] = df['W'] * (df['X']*10) # Alter the table - operation\n",
    "print(df) # Alter the table - result\n",
    "\n",
    "print(\"--------drop the column---------\")\n",
    "print(df.drop('new',axis=1)) # Alter the table - result\n",
    "\n",
    "print(\"--------drop the column permenently---------\")\n",
    "df.drop('new2',axis=1,inplace=True) \n",
    "print(df)\n",
    "\n",
    "print(\"--------drop the rows---------\")\n",
    "print(df.drop('E',axis=0))\n",
    "\n",
    "print(\"--------Select the row---------\")\n",
    "print(df.loc['A'])\n",
    "\n",
    "print(\"--------Select the row based on index---------\")\n",
    "print(df.iloc[1])\n",
    "\n",
    "print(\"--------Select the subset of rows and columns---------\")\n",
    "#print(df.loc['D','E'])\n",
    "print(df.iloc[1:3])\n",
    "\n",
    "print(\"--------Select the values based on conditions---------\")\n",
    "print(df>0)\n",
    "print(df[df['W']>0])\n",
    "\n",
    "print(\"--------Select the values based on conditions specific column---------\")\n",
    "print(df[df['W']>0]['Y'])\n",
    "\n",
    "print(\"--------Select the values based on conditions specific column---------\")\n",
    "print(df[(df['W']>0) & (df['Y']>1)])\n",
    "\n",
    "print(\"--------Add column with value(index)---------\")\n",
    "newinde = 'CA DS AR FR GT'.split()\n",
    "df['Serial'] = newinde\n",
    "print(df)\n",
    "\n",
    "print(\"--------Change |Index---------\")\n",
    "print(df.set_index('Serial'))\n"
   ]
  },
  {
   "cell_type": "code",
   "execution_count": 126,
   "metadata": {},
   "outputs": [
    {
     "name": "stdout",
     "output_type": "stream",
     "text": [
      "MultiIndex(levels=[['a', 'b'], [1, 2, 3]],\n",
      "           labels=[[0, 0, 0, 1, 1, 1], [0, 1, 2, 0, 1, 2]])\n",
      "            A         B\n",
      "a 1  0.036181 -1.193278\n",
      "  2 -0.158102  0.013418\n",
      "  3 -0.472347 -0.208106\n",
      "b 1  1.441544 -1.671095\n",
      "  2  0.544559  1.261322\n",
      "  3  0.962837 -0.279902\n",
      "A    0.036181\n",
      "B   -1.193278\n",
      "Name: 1, dtype: float64\n"
     ]
    }
   ],
   "source": [
    "# Multilevel indexing\n",
    "import numpy as np\n",
    "import pandas as pd\n",
    "a = ['a','a','a','b','b','b']\n",
    "b= [1,2,3,1,2,3]\n",
    "c= list(zip(a,b))\n",
    "d=pd.MultiIndex.from_tuples(c)\n",
    "print(d)\n",
    "df = pd.DataFrame(np.random.randn(6,2),index=d,columns=['A','B'])\n",
    "print(df)\n",
    "print(df.loc['a'].loc[1])"
   ]
  },
  {
   "cell_type": "code",
   "execution_count": 139,
   "metadata": {},
   "outputs": [
    {
     "name": "stdout",
     "output_type": "stream",
     "text": [
      "    a   b   c\n",
      "0  a1  b1  10\n",
      "1  a2  b2  20\n",
      "2  a3  b3  30\n",
      "3  a4  b4  40\n",
      "4  a4  b4  50\n",
      "     c\n",
      "b     \n",
      "b1  10\n",
      "b2  20\n",
      "b3  30\n",
      "b4  45\n",
      "     c\n",
      "b     \n",
      "b1  10\n",
      "b2  20\n",
      "b3  30\n",
      "b4  45\n",
      "       c                                              \n",
      "   count  mean       std   min   25%   50%   75%   max\n",
      "b                                                     \n",
      "b1   1.0  10.0       NaN  10.0  10.0  10.0  10.0  10.0\n",
      "b2   1.0  20.0       NaN  20.0  20.0  20.0  20.0  20.0\n",
      "b3   1.0  30.0       NaN  30.0  30.0  30.0  30.0  30.0\n",
      "b4   2.0  45.0  7.071068  40.0  42.5  45.0  47.5  50.0\n",
      "b          b1    b2    b3         b4\n",
      "c count   1.0   1.0   1.0   2.000000\n",
      "  mean   10.0  20.0  30.0  45.000000\n",
      "  std     NaN   NaN   NaN   7.071068\n",
      "  min    10.0  20.0  30.0  40.000000\n",
      "  25%    10.0  20.0  30.0  42.500000\n",
      "  50%    10.0  20.0  30.0  45.000000\n",
      "  75%    10.0  20.0  30.0  47.500000\n",
      "  max    10.0  20.0  30.0  50.000000\n"
     ]
    }
   ],
   "source": [
    "# Groupby\n",
    "\n",
    "import pandas as pd\n",
    "data={'a':['a1','a2','a3','a4','a4'],\n",
    "    'b':['b1','b2','b3','b4','b4'],\n",
    "    'c':[10,20,30,40,50]}\n",
    "df = pd.DataFrame(data)\n",
    "print(df)\n",
    "by_b = df.groupby('b')\n",
    "print(by_b.mean())\n",
    "print(df.groupby('b').mean())\n",
    "print(df.groupby('b').describe())\n",
    "print(df.groupby('b').describe().transpose())"
   ]
  },
  {
   "cell_type": "code",
   "execution_count": 143,
   "metadata": {},
   "outputs": [],
   "source": [
    "# merging\n",
    "\n",
    "import pandas as pd\n",
    "df1=pd.DataFrame({'a11':['a1','a2','a3','a4','a4'],\n",
    "    'b11':['b1','b2','b3','b4','b4'],\n",
    "    'c11':[10,20,30,40,50]},index=[4,5,6,7])\n",
    "df2=pd.DataFrame({'a22':['a1','a2','a3','a4','a4'],\n",
    "    'b22':['b1','b2','b3','b4','b4'],\n",
    "    'c22':[10,20,30,40,50]},index=[8,9,10,11])\n",
    "df3=pd.DataFrame({'a33':['a1','a2','a3','a4','a4'],\n",
    "    'b33':['b1','b2','b3','b4','b4'],\n",
    "    'c33':[10,20,30,40,50]},index=[12,13,14,15])\n",
    "df3.concat[df1,df2]\n"
   ]
  },
  {
   "cell_type": "code",
   "execution_count": null,
   "metadata": {},
   "outputs": [],
   "source": [
    "# joining\n",
    "left.join(right)\n",
    "\n",
    "# unique\n",
    "df['col2'].unique()\n",
    "\n",
    "# unique count\n",
    "df['col2'].nunique()\n",
    "\n",
    "# value count\n",
    "df['col2'].value_counts()\n",
    "\n",
    "# applying fucntions\n",
    "def times2(x):\n",
    "    return x*2\n",
    "\n",
    "df['col1'].apply(times2)\n",
    "\n",
    "df['col1'].apply(len)\n",
    "\n",
    "df.isnull()\n",
    "df.dropna()\n",
    "\n",
    "df.head()\n",
    "df.fillna('fill')"
   ]
  },
  {
   "cell_type": "code",
   "execution_count": 153,
   "metadata": {},
   "outputs": [
    {
     "name": "stdout",
     "output_type": "stream",
     "text": [
      "    a   b   c   d\n",
      "0   0   1   2   3\n",
      "1   4   5   6   7\n",
      "2   8   9  10  11\n",
      "3  12  13  14  15\n",
      "    a   b   c   d\n",
      "0   0   1   2   3\n",
      "1   4   5   6   7\n",
      "2   8   9  10  11\n",
      "3  12  13  14  15\n",
      "Empty DataFrame\n",
      "Columns: []\n",
      "Index: []\n",
      "Empty DataFrame\n",
      "Columns: []\n",
      "Index: []\n",
      "Empty DataFrame\n",
      "Columns: []\n",
      "Index: []\n"
     ]
    }
   ],
   "source": [
    "import pandas as pd\n",
    "df=pd.read_excel('Excel_Sample.xlsx')\n",
    "print(df)\n",
    "df=pd.read_csv('example')\n",
    "print(df)\n",
    "df=pd.read_excel('Excel_Sample.xlsx',sheet_name='Sheet1')\n",
    "print(df)\n",
    "df.to_csv('example',index=False)\n",
    "print(df)\n",
    "df.to_excel('Excel_Sample.xlsx',sheet_name='Sheet2')\n",
    "print(df)"
   ]
  },
  {
   "cell_type": "code",
   "execution_count": 156,
   "metadata": {},
   "outputs": [
    {
     "name": "stdout",
     "output_type": "stream",
     "text": [
      "   OD01  1  1.1  450  2016-01-24  1.2  Apple iPhone 4S\n",
      "0  OD01  1    1  450  2016-01-24    2  Apple iPhone 5S\n",
      "1  OD01  1    1  450  2016-01-24    3   Apple iPhone 6\n",
      "2  OD02  2    2  400  2016-01-24    1  Apple iPhone 4S\n",
      "3  OD02  2    2  400  2016-01-24    2  Apple iPhone 5S\n",
      "4  OD02  2    2  400  2016-01-24    3   Apple iPhone 6\n",
      "5  OD03  2    1  350  2016-01-25    1  Apple iPhone 4S\n",
      "6  OD03  2    1  350  2016-01-25    2  Apple iPhone 5S\n",
      "7  OD03  2    1  350  2016-01-25    3   Apple iPhone 6\n"
     ]
    }
   ],
   "source": [
    "import pandas as pd\n",
    "df=pd.read_csv('date-1.csv')\n",
    "df.to_csv('example')\n",
    "print(df)"
   ]
  },
  {
   "cell_type": "code",
   "execution_count": 157,
   "metadata": {},
   "outputs": [
    {
     "name": "stdout",
     "output_type": "stream",
     "text": [
      "('', 'cd', '')\n"
     ]
    }
   ],
   "source": [
    "print('cd'.partition('cd'))"
   ]
  },
  {
   "cell_type": "code",
   "execution_count": null,
   "metadata": {},
   "outputs": [],
   "source": []
  }
 ],
 "metadata": {
  "kernelspec": {
   "display_name": "Python 3",
   "language": "python",
   "name": "python3"
  },
  "language_info": {
   "codemirror_mode": {
    "name": "ipython",
    "version": 3
   },
   "file_extension": ".py",
   "mimetype": "text/x-python",
   "name": "python",
   "nbconvert_exporter": "python",
   "pygments_lexer": "ipython3",
   "version": "3.6.5"
  }
 },
 "nbformat": 4,
 "nbformat_minor": 2
}
