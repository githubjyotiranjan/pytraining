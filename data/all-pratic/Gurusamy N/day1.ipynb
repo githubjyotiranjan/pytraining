{
 "cells": [
  {
   "cell_type": "markdown",
   "metadata": {},
   "source": [
    "# Simple Example"
   ]
  },
  {
   "cell_type": "code",
   "execution_count": 10,
   "metadata": {},
   "outputs": [
    {
     "name": "stdout",
     "output_type": "stream",
     "text": [
      "True\n"
     ]
    }
   ],
   "source": [
    "a=1+2 == 3\n",
    "print(a)"
   ]
  },
  {
   "cell_type": "code",
   "execution_count": 14,
   "metadata": {},
   "outputs": [
    {
     "data": {
      "text/plain": [
       "5"
      ]
     },
     "execution_count": 14,
     "metadata": {},
     "output_type": "execute_result"
    }
   ],
   "source": [
    "~~~~~~5"
   ]
  },
  {
   "cell_type": "code",
   "execution_count": 8,
   "metadata": {},
   "outputs": [
    {
     "name": "stdout",
     "output_type": "stream",
     "text": [
      "Hello\n"
     ]
    }
   ],
   "source": [
    "print(\"Hello\")\n"
   ]
  },
  {
   "cell_type": "code",
   "execution_count": 7,
   "metadata": {},
   "outputs": [
    {
     "name": "stdout",
     "output_type": "stream",
     "text": [
      "guru\n",
      "samy\n",
      "hello\n"
     ]
    }
   ],
   "source": [
    "print(\"guru\")\n",
    "print(\"samy\")\n",
    "print(\"hello\")"
   ]
  },
  {
   "cell_type": "markdown",
   "metadata": {},
   "source": [
    "# Arithmatic opetions"
   ]
  },
  {
   "cell_type": "code",
   "execution_count": 21,
   "metadata": {},
   "outputs": [
    {
     "data": {
      "text/plain": [
       "2.5"
      ]
     },
     "execution_count": 21,
     "metadata": {},
     "output_type": "execute_result"
    }
   ],
   "source": [
    "2+1"
   ]
  },
  {
   "cell_type": "code",
   "execution_count": 23,
   "metadata": {},
   "outputs": [
    {
     "data": {
      "text/plain": [
       "-1"
      ]
     },
     "execution_count": 23,
     "metadata": {},
     "output_type": "execute_result"
    }
   ],
   "source": [
    "1-2\n"
   ]
  },
  {
   "cell_type": "code",
   "execution_count": 24,
   "metadata": {},
   "outputs": [
    {
     "data": {
      "text/plain": [
       "2.5"
      ]
     },
     "execution_count": 24,
     "metadata": {},
     "output_type": "execute_result"
    }
   ],
   "source": [
    "5/2"
   ]
  },
  {
   "cell_type": "code",
   "execution_count": 25,
   "metadata": {},
   "outputs": [
    {
     "data": {
      "text/plain": [
       "1"
      ]
     },
     "execution_count": 25,
     "metadata": {},
     "output_type": "execute_result"
    }
   ],
   "source": [
    "5%2\n"
   ]
  },
  {
   "cell_type": "code",
   "execution_count": 26,
   "metadata": {},
   "outputs": [
    {
     "data": {
      "text/plain": [
       "2"
      ]
     },
     "execution_count": 26,
     "metadata": {},
     "output_type": "execute_result"
    }
   ],
   "source": [
    "5//2"
   ]
  },
  {
   "cell_type": "code",
   "execution_count": 19,
   "metadata": {},
   "outputs": [
    {
     "name": "stdout",
     "output_type": "stream",
     "text": [
      "54\n"
     ]
    }
   ],
   "source": [
    "a=3**3*2\n",
    "print(a)"
   ]
  },
  {
   "cell_type": "code",
   "execution_count": 27,
   "metadata": {},
   "outputs": [
    {
     "data": {
      "text/plain": [
       "125"
      ]
     },
     "execution_count": 27,
     "metadata": {},
     "output_type": "execute_result"
    }
   ],
   "source": [
    "5**3\n"
   ]
  },
  {
   "cell_type": "code",
   "execution_count": 28,
   "metadata": {},
   "outputs": [
    {
     "data": {
      "text/plain": [
       "1"
      ]
     },
     "execution_count": 28,
     "metadata": {},
     "output_type": "execute_result"
    }
   ],
   "source": [
    "1**1**3"
   ]
  },
  {
   "cell_type": "code",
   "execution_count": 29,
   "metadata": {},
   "outputs": [
    {
     "data": {
      "text/plain": [
       "8.0"
      ]
     },
     "execution_count": 29,
     "metadata": {},
     "output_type": "execute_result"
    }
   ],
   "source": [
    "2+3*4/2"
   ]
  },
  {
   "cell_type": "code",
   "execution_count": 30,
   "metadata": {},
   "outputs": [
    {
     "data": {
      "text/plain": [
       "0.009110787172011662"
      ]
     },
     "execution_count": 30,
     "metadata": {},
     "output_type": "execute_result"
    }
   ],
   "source": [
    "(22+3)/(12+2)**3"
   ]
  },
  {
   "cell_type": "code",
   "execution_count": 31,
   "metadata": {},
   "outputs": [
    {
     "data": {
      "text/plain": [
       "1000000000000000"
      ]
     },
     "execution_count": 31,
     "metadata": {},
     "output_type": "execute_result"
    }
   ],
   "source": [
    "1_000_000_000_000_000\n"
   ]
  },
  {
   "cell_type": "markdown",
   "metadata": {},
   "source": [
    "# Assingment operator"
   ]
  },
  {
   "cell_type": "code",
   "execution_count": 33,
   "metadata": {},
   "outputs": [
    {
     "data": {
      "text/plain": [
       "3"
      ]
     },
     "execution_count": 33,
     "metadata": {},
     "output_type": "execute_result"
    }
   ],
   "source": [
    "a= 3\n",
    "a"
   ]
  },
  {
   "cell_type": "code",
   "execution_count": 34,
   "metadata": {},
   "outputs": [
    {
     "data": {
      "text/plain": [
       "'guru'"
      ]
     },
     "execution_count": 34,
     "metadata": {},
     "output_type": "execute_result"
    }
   ],
   "source": [
    "a=\"guru\"\n",
    "a\n"
   ]
  },
  {
   "cell_type": "code",
   "execution_count": 36,
   "metadata": {},
   "outputs": [
    {
     "data": {
      "text/plain": [
       "'guru3'"
      ]
     },
     "execution_count": 36,
     "metadata": {},
     "output_type": "execute_result"
    }
   ],
   "source": [
    "a=\"guru\"\n",
    "b = \"3\"\n",
    "c = a+b\n",
    "c\n"
   ]
  },
  {
   "cell_type": "code",
   "execution_count": 37,
   "metadata": {},
   "outputs": [
    {
     "data": {
      "text/plain": [
       "8.0"
      ]
     },
     "execution_count": 37,
     "metadata": {},
     "output_type": "execute_result"
    }
   ],
   "source": [
    "a=3\n",
    "b=5.0\n",
    "c = a+b\n",
    "c"
   ]
  },
  {
   "cell_type": "code",
   "execution_count": 40,
   "metadata": {},
   "outputs": [
    {
     "name": "stdout",
     "output_type": "stream",
     "text": [
      "False\n"
     ]
    }
   ],
   "source": [
    "c='print1'\n",
    "d=\"print2\"\n",
    "e = c+d\n",
    "e\n",
    "f = c==d\n",
    "print(f)\n"
   ]
  },
  {
   "cell_type": "markdown",
   "metadata": {},
   "source": [
    "# Calculate Person income tax"
   ]
  },
  {
   "cell_type": "code",
   "execution_count": 49,
   "metadata": {},
   "outputs": [
    {
     "name": "stdout",
     "output_type": "stream",
     "text": [
      "Tax :20000.0\n"
     ]
    }
   ],
   "source": [
    "person_income  = 100000\n",
    "tex_value = 20\n",
    "result_tax = person_income * (tex_value/100)\n",
    "print(\"Tax :\" + str(result_tax))"
   ]
  },
  {
   "cell_type": "markdown",
   "metadata": {},
   "source": [
    "# Exponetial No "
   ]
  },
  {
   "cell_type": "code",
   "execution_count": 50,
   "metadata": {},
   "outputs": [
    {
     "name": "stdout",
     "output_type": "stream",
     "text": [
      "78.5\n"
     ]
    }
   ],
   "source": [
    "pi=3.14\n",
    "ra = 5\n",
    "area = pi*ra**2\n",
    "print(area)"
   ]
  },
  {
   "cell_type": "markdown",
   "metadata": {},
   "source": [
    "# Rounding the number"
   ]
  },
  {
   "cell_type": "code",
   "execution_count": 52,
   "metadata": {},
   "outputs": [
    {
     "data": {
      "text/plain": [
       "1.67"
      ]
     },
     "execution_count": 52,
     "metadata": {},
     "output_type": "execute_result"
    }
   ],
   "source": [
    "round(5/3,2)"
   ]
  },
  {
   "cell_type": "markdown",
   "metadata": {},
   "source": [
    "# datatype convertion"
   ]
  },
  {
   "cell_type": "code",
   "execution_count": 58,
   "metadata": {},
   "outputs": [
    {
     "name": "stdout",
     "output_type": "stream",
     "text": [
      "13\n",
      "13.33\n",
      "20\n"
     ]
    }
   ],
   "source": [
    "print(int(round(40/3,2)))\n",
    "print(float(round(40/3,2)))\n",
    "a=20\n",
    "print(a.real)"
   ]
  },
  {
   "cell_type": "markdown",
   "metadata": {},
   "source": [
    "# Comments "
   ]
  },
  {
   "cell_type": "code",
   "execution_count": 59,
   "metadata": {},
   "outputs": [
    {
     "data": {
      "text/plain": [
       "' for multiline \\ncomments'"
      ]
     },
     "execution_count": 59,
     "metadata": {},
     "output_type": "execute_result"
    }
   ],
   "source": [
    "# for single line\n",
    "''' for multiline \n",
    "comments '''"
   ]
  },
  {
   "cell_type": "markdown",
   "metadata": {},
   "source": [
    "# Escaping"
   ]
  },
  {
   "cell_type": "code",
   "execution_count": 62,
   "metadata": {},
   "outputs": [
    {
     "name": "stdout",
     "output_type": "stream",
     "text": [
      "I don't like\n",
      "I don't like\n"
     ]
    }
   ],
   "source": [
    "a='I don\\'t like'\n",
    "print(a)\n",
    "b=\"I don\\'t like\"\n",
    "print(a)"
   ]
  },
  {
   "cell_type": "markdown",
   "metadata": {},
   "source": [
    "# Concadination"
   ]
  },
  {
   "cell_type": "code",
   "execution_count": 64,
   "metadata": {},
   "outputs": [
    {
     "name": "stdout",
     "output_type": "stream",
     "text": [
      "onetwo\n",
      "one_two\n"
     ]
    }
   ],
   "source": [
    "a=\"one\"\n",
    "b=\"two\"\n",
    "print(a+b)\n",
    "print(a + \"_\" + b) "
   ]
  },
  {
   "cell_type": "markdown",
   "metadata": {},
   "source": [
    "# formated strings"
   ]
  },
  {
   "cell_type": "code",
   "execution_count": 82,
   "metadata": {},
   "outputs": [
    {
     "name": "stdout",
     "output_type": "stream",
     "text": [
      "My Name:guru and my age is 29\n",
      "My Name:guru and my age is 29\n",
      "My Name:guru and my age is 29\n"
     ]
    }
   ],
   "source": [
    "name=\"guru\"\n",
    "age=29\n",
    "print(\"My Name:{one} and my age is {two}\".format(one=name,two=age))\n",
    "print(\"My Name:{} and my age is {}\".format(name,age))\n",
    "print(\"My Name:{0} and my age is {1}\".format(name,age))"
   ]
  },
  {
   "cell_type": "code",
   "execution_count": 88,
   "metadata": {},
   "outputs": [
    {
     "name": "stdout",
     "output_type": "stream",
     "text": [
      "hello hello hello \n",
      "hellohellohellohellohellohellohellohellohellohellohellohellohellohellohellohellohellohellohellohellohellohellohellohellohellohellohellohellohellohellohellohellohellohellohellohellohellohellohellohellohellohellohellohellohellohellohellohellohellohellohellohellohellohellohellohellohellohellohellohellohellohellohellohellohellohellohellohellohellohellohellohellohellohellohellohellohellohellohellohellohellohellohellohellohellohellohellohellohellohellohellohellohellohellohellohellohellohellohellohello\n",
      " the End\n"
     ]
    }
   ],
   "source": [
    "print(\"hello \"*3)\n",
    "print(100 * \"hello\" + \"\\n the End\")"
   ]
  },
  {
   "cell_type": "code",
   "execution_count": 167,
   "metadata": {},
   "outputs": [
    {
     "name": "stdout",
     "output_type": "stream",
     "text": [
      "13.3256\n"
     ]
    }
   ],
   "source": [
    "mystring = 13.3256\n",
    "print('%s'%(mystring))"
   ]
  },
  {
   "cell_type": "markdown",
   "metadata": {},
   "source": [
    "# Methods & Functions"
   ]
  },
  {
   "cell_type": "code",
   "execution_count": 100,
   "metadata": {},
   "outputs": [
    {
     "name": "stdout",
     "output_type": "stream",
     "text": [
      "GURU\n",
      "11\n",
      "My name is samy\n",
      "My name is samy \n",
      "My name is samy \n",
      "My name is samy \n",
      "My name is samy \n",
      "My name is samy \n",
      "My name is samy \n",
      "My name is samy \n",
      "My name is samy \n",
      "My name is samy \n",
      "My name is samy \n",
      "\n"
     ]
    }
   ],
   "source": [
    "print(\"guru\".upper())\n",
    "print(len(\"hello world\"))\n",
    "print(\"My name is guru\".replace(\"guru\",\"samy\"))\n",
    "mystring = \"My name is guru \\n\" * 10\n",
    "print(mystring.replace(\"guru\",\"samy\"))\n"
   ]
  },
  {
   "cell_type": "code",
   "execution_count": 113,
   "metadata": {},
   "outputs": [
    {
     "name": "stdout",
     "output_type": "stream",
     "text": [
      "0\n"
     ]
    }
   ],
   "source": [
    "mystring = \"Hi Guru\"\n",
    "print(mystring.count(\"U\"))"
   ]
  },
  {
   "cell_type": "code",
   "execution_count": 125,
   "metadata": {},
   "outputs": [
    {
     "name": "stdout",
     "output_type": "stream",
     "text": [
      "Hi guru hi\n",
      "hi guru hi\n",
      "Hi Guru Hi\n",
      "['Hi', 'Guru', 'Hi']\n"
     ]
    }
   ],
   "source": [
    "mystring = \"Hi Guru Hi\"\n",
    "print(mystring.capitalize())\n",
    "print(mystring.casefold())\n",
    "print(mystring.center(3))\n",
    "print(mystring.split())"
   ]
  },
  {
   "cell_type": "markdown",
   "metadata": {},
   "source": [
    "# Comparision Operator"
   ]
  },
  {
   "cell_type": "code",
   "execution_count": 134,
   "metadata": {},
   "outputs": [
    {
     "name": "stdout",
     "output_type": "stream",
     "text": [
      "True\n",
      "False\n",
      "True\n",
      "True\n",
      "True\n",
      "False\n"
     ]
    }
   ],
   "source": [
    "print(a==a)\n",
    "print(2>=3)\n",
    "print(2<=3)\n",
    "print(2!=3)\n",
    "print(2<3)\n",
    "print(2>3)"
   ]
  },
  {
   "cell_type": "markdown",
   "metadata": {},
   "source": [
    "# logical operator"
   ]
  },
  {
   "cell_type": "code",
   "execution_count": 138,
   "metadata": {},
   "outputs": [
    {
     "name": "stdout",
     "output_type": "stream",
     "text": [
      "False\n",
      "True\n"
     ]
    }
   ],
   "source": [
    "print(2==2 and 2==3)\n",
    "print(2==2 or 2==3)"
   ]
  },
  {
   "cell_type": "markdown",
   "metadata": {},
   "source": [
    "# Accepting User Input"
   ]
  },
  {
   "cell_type": "code",
   "execution_count": 142,
   "metadata": {},
   "outputs": [
    {
     "name": "stdout",
     "output_type": "stream",
     "text": [
      "Enter your input23\n",
      "Your Input: 23\n"
     ]
    }
   ],
   "source": [
    "a  = input(\"Enter your input\")\n",
    "print(\"Your Input:\",a)\n"
   ]
  },
  {
   "cell_type": "code",
   "execution_count": 147,
   "metadata": {},
   "outputs": [
    {
     "name": "stdout",
     "output_type": "stream",
     "text": [
      "Enter your radius2\n",
      "Enter your radius3\n",
      "Enter your radius5\n",
      "12.56\n",
      "28.26\n",
      "78.5\n"
     ]
    }
   ],
   "source": [
    "pi=3.14\n",
    "ra = input(\"Enter your radius\")\n",
    "ra1 = input(\"Enter your radius\")\n",
    "ra2 = input(\"Enter your radius\")\n",
    "area = pi*int(ra)**2\n",
    "print(str(area))\n",
    "area = pi*int(ra1)**2\n",
    "print(str(area))\n",
    "area = pi*int(ra2)**2\n",
    "print(str(area))\n"
   ]
  },
  {
   "cell_type": "code",
   "execution_count": 150,
   "metadata": {},
   "outputs": [
    {
     "name": "stdout",
     "output_type": "stream",
     "text": [
      "Enter the person income10000\n",
      "Enter the tax percentage10\n",
      "Tax :2000.0\n"
     ]
    }
   ],
   "source": [
    "person_income  = input(\"Enter the person income\")\n",
    "tax_value = input(\"Enter the tax percentage\")\n",
    "result_tax = int(person_income) * (int(tex_value)/100)\n",
    "print(\"Tax :\" + str(result_tax))"
   ]
  },
  {
   "cell_type": "markdown",
   "metadata": {},
   "source": [
    "# Index Positions"
   ]
  },
  {
   "cell_type": "code",
   "execution_count": 172,
   "metadata": {},
   "outputs": [
    {
     "name": "stdout",
     "output_type": "stream",
     "text": [
      "H\n",
      "e\n",
      "l\n",
      "l\n",
      "o\n",
      "r\n",
      "u\n"
     ]
    }
   ],
   "source": [
    "a=\"Hello Guru\"\n",
    "print(a[0])\n",
    "print(a[1])\n",
    "print(a[2])\n",
    "print(a[3])\n",
    "print(a[4])\n",
    "print(a[-2])\n",
    "print(a[-1])"
   ]
  },
  {
   "cell_type": "code",
   "execution_count": 180,
   "metadata": {},
   "outputs": [
    {
     "name": "stdout",
     "output_type": "stream",
     "text": [
      "llo Guru\n",
      "Hel\n",
      "Hello G\n",
      "Guru\n"
     ]
    }
   ],
   "source": [
    "a=\"Hello Guru\"\n",
    "print(a[2:])\n",
    "print(a[:3])\n",
    "print(a[:-3])\n",
    "print(a[-4:])"
   ]
  },
  {
   "cell_type": "code",
   "execution_count": 182,
   "metadata": {},
   "outputs": [
    {
     "name": "stdout",
     "output_type": "stream",
     "text": [
      "Hello\n",
      "world\n"
     ]
    }
   ],
   "source": [
    "a=\"Hello world\"\n",
    "print(a[:5])\n",
    "print(a[6:11])"
   ]
  },
  {
   "cell_type": "markdown",
   "metadata": {},
   "source": [
    "# Check"
   ]
  },
  {
   "cell_type": "code",
   "execution_count": 187,
   "metadata": {},
   "outputs": [
    {
     "name": "stdout",
     "output_type": "stream",
     "text": [
      "False\n",
      "True\n",
      "True\n",
      "False\n"
     ]
    }
   ],
   "source": [
    "a= \"hello\"\n",
    "print(a.isupper())\n",
    "print(a.islower())\n",
    "print(a.isalpha())\n",
    "print(a.isdigit())"
   ]
  },
  {
   "cell_type": "markdown",
   "metadata": {},
   "source": [
    "# Collections(list,map,dictionary,set,tuple)"
   ]
  },
  {
   "cell_type": "code",
   "execution_count": 10,
   "metadata": {},
   "outputs": [
    {
     "name": "stdout",
     "output_type": "stream",
     "text": [
      "a\n",
      "[1, ['a', 'we', 5, 2.5]]\n",
      "[2, 3, 4, 2, [1, ['a', 'we', 5, 2.5]]]\n",
      "[1, ['a', 'we', 5, 2.5]]\n",
      "['a', 'we', 5, 2.5]\n",
      "[1, 2, 4, 5]\n",
      "[1, 2, 4, 5, 6]\n",
      "[8, 7, 6, 5, 4, 3, 1]\n",
      "['new', 7, 6, 5, 4, 3, 1]\n"
     ]
    }
   ],
   "source": [
    "# list\n",
    "\n",
    "a = [\"a\",\"we\",5,2.5]\n",
    "print(a[0]) # print the 0 index\n",
    "b= [1,a]\n",
    "print(b)\n",
    "c = [2,3,4,2,b]\n",
    "print(c)\n",
    "print(c[4])\n",
    "print(c[4][1])\n",
    "\n",
    "#append list\n",
    "\n",
    "e = [1,2,4]\n",
    "f = e + [5]\n",
    "print(f)\n",
    "\n",
    "f.append(6)\n",
    "print(f)\n",
    "\n",
    "\n",
    "#reverse\n",
    "a = [1,3,4,5,6,7,8]\n",
    "a.reverse()\n",
    "print(a)\n",
    "\n",
    "#change value\n",
    "a[0] = \"new\"\n",
    "print(a)\n"
   ]
  },
  {
   "cell_type": "code",
   "execution_count": 214,
   "metadata": {},
   "outputs": [
    {
     "name": "stdout",
     "output_type": "stream",
     "text": [
      "Guru\n",
      "Samy\n",
      "2\n"
     ]
    }
   ],
   "source": [
    "# dictionary (key and value pair)\n",
    "\n",
    "a = {1:'Guru',2:'Samy'}\n",
    "print(a[1])\n",
    "print(a[2])\n",
    "b = {1:[1,2,3]}\n",
    "print(b[1][1])\n"
   ]
  },
  {
   "cell_type": "code",
   "execution_count": 17,
   "metadata": {},
   "outputs": [
    {
     "name": "stdout",
     "output_type": "stream",
     "text": [
      "2\n",
      "(1, 2, 3, 4, 5, 6)\n",
      "6\n",
      "1\n",
      "(1, 2, 3, 4, 5, 6)\n",
      "True\n",
      "False\n"
     ]
    }
   ],
   "source": [
    "# tuple\n",
    "a=(1,2,3,4,5,6)\n",
    "print(a[1])\n",
    "\n",
    "# a[0] = new --- wont work\n",
    "print(a)\n",
    "\n",
    "#cant reassign the value\n",
    "\n",
    "#max\n",
    "print(max(a))\n",
    "\n",
    "#min\n",
    "print(min(a))\n",
    "\n",
    "#addition on the tuple\n",
    "a=(1,2,3)\n",
    "b=(4,5,6)\n",
    "print(a+b)\n",
    "\n",
    "# checking the value\n",
    "print(3 in a) #--true\n",
    "print(4 in a) #--false"
   ]
  },
  {
   "cell_type": "code",
   "execution_count": 32,
   "metadata": {},
   "outputs": [
    {
     "name": "stdout",
     "output_type": "stream",
     "text": [
      "5\n",
      "5\n",
      "1\n",
      "{1, 2, 3, 4, 5, 6, 7}\n",
      "{1, 2}\n",
      "{2}\n",
      "{1, 2}\n"
     ]
    }
   ],
   "source": [
    "#set - it is an unordered set of distinct elements\n",
    "\n",
    "a = {1,2,3,4,5}\n",
    "print(len(a))\n",
    "print(max(a))\n",
    "print(min(a))\n",
    "b = {6,7}\n",
    "a.update(b)\n",
    "print(a)\n",
    "c = {1,1,1,1,2,2,2,2}\n",
    "print(c) #---set wont allow duplicate, will display distinct\n",
    "c.pop()\n",
    "print(c)\n",
    "\n",
    "# create empty set\n",
    "d=set()\n",
    "d.add(1)\n",
    "d.add(2)\n",
    "print(d)"
   ]
  },
  {
   "cell_type": "markdown",
   "metadata": {},
   "source": [
    "# loops & statements"
   ]
  },
  {
   "cell_type": "code",
   "execution_count": 47,
   "metadata": {},
   "outputs": [
    {
     "name": "stdout",
     "output_type": "stream",
     "text": [
      "10\n",
      "Ok ok\n",
      "Enter the person salary  :  12365\n",
      "Tax Value : 370.95\n",
      "Net Value : 11994.05\n"
     ]
    }
   ],
   "source": [
    "# if statement\n",
    "\n",
    "a=10\n",
    "if(a>5):\n",
    " print(10)\n",
    "else:\n",
    " print(5)\n",
    "\n",
    "# else if statement(nested condition)\n",
    "\n",
    "if(a<5):\n",
    "    print(\"ok\")\n",
    "elif(a==10):\n",
    "    print(\"Ok ok\")\n",
    "else:\n",
    "    print(\"Not Okay\")\n",
    "    \n",
    "# tax calculation based on the condition\n",
    "\n",
    "person_salary = int(input(\"Enter the person salary  :  \"))\n",
    "if(person_salary >= 10000 and person_salary <= 20000):\n",
    "    print(\"Tax Value : \" + str(person_salary * (3/100)))\n",
    "    print(\"Net Value : \" + str(person_salary - (person_salary * (3/100))))\n",
    "elif(person_salary >= 20001 and person_salary <= 30000):\n",
    "    print(\"Tax Value : \" + str(person_salary * (5/100))) \n",
    "    print(\"Net Value : \" + str(person_salary - (person_salary * (5/100))))\n",
    "elif(person_salary >= 30001 and person_salary <= 40000):\n",
    "    print(\"Tax Value : \" + str(person_salary * (10/100)))\n",
    "    print(\"Net Value : \" + str(person_salary - (person_salary * (10/100))))\n",
    "elif(person_salary >= 40001 and person_salary <= 50000):\n",
    "    print(\"Tax Value : \" + str(person_salary * (20/100)))\n",
    "    print(\"Net Value : \" + str(person_salary - (person_salary * (20/100))))\n",
    "else:\n",
    "    print(\"You have enter wrong amount\")\n",
    "    "
   ]
  },
  {
   "cell_type": "code",
   "execution_count": 48,
   "metadata": {},
   "outputs": [
    {
     "name": "stdout",
     "output_type": "stream",
     "text": [
      "Enter the mark  :  86\n",
      "Grade : A\n"
     ]
    }
   ],
   "source": [
    "\n",
    "stu_mark: int = int(input(\"Enter the mark  :  \"))\n",
    "if 90 <= stu_mark <= 100:\n",
    "    print(\"Grade : A+\")\n",
    "elif 80 <= stu_mark <= 89:\n",
    "    print(\"Grade : A\")\n",
    "elif 70 <= stu_mark <= 79:\n",
    "    print(\"Grade : B\")\n",
    "elif 60 <= stu_mark <= 69:\n",
    "    print(\"Grade : C\")\n",
    "else:\n",
    "    print(\"Fail\")"
   ]
  },
  {
   "cell_type": "code",
   "execution_count": 49,
   "metadata": {},
   "outputs": [
    {
     "name": "stdout",
     "output_type": "stream",
     "text": [
      "Enter loan Amount : 10000\n",
      "Enter rate of interest : 10\n",
      "Enter loan period : 10\n",
      " SIMPLE INTEREST - EMI : 1010.0\n",
      " COMPOUND INTEREST - EMI : 3593.742460100002\n"
     ]
    }
   ],
   "source": [
    "# EMI Calculator - Simple interest\n",
    "\n",
    "la: float = float(input(\"Enter loan Amount : \"))  # ---Loan amount details\n",
    "roi: float = float(input(\"Enter rate of interest : \"))\n",
    "lp: float = float(input(\"Enter loan period : \"))\n",
    "roipercentage: float = float(roi/100)\n",
    "calsimint: float = float((la*roipercentage*lp)/100)\n",
    "addval: float = float(1.0+roipercentage)\n",
    "calcomint: float = la*(addval**lp)\n",
    "totpayamt: float = la+calsimint\n",
    "comtotpayamt: float = la+calcomint\n",
    "emi: float = totpayamt/lp    \n",
    "print(\" SIMPLE INTEREST - EMI : \" + str(emi))\n",
    "print(\" COMPOUND INTEREST - EMI : \" + str(comtotpayamt/lp))"
   ]
  },
  {
   "cell_type": "code",
   "execution_count": 50,
   "metadata": {},
   "outputs": [
    {
     "name": "stdout",
     "output_type": "stream",
     "text": [
      "Enter the number : 10\n",
      "0\n",
      "1\n",
      "2\n",
      "3\n",
      "4\n",
      "5\n",
      "6\n",
      "7\n",
      "8\n",
      "9\n"
     ]
    }
   ],
   "source": [
    "var = int(input(\"Enter the number : \"))\n",
    "for i in range(var):\n",
    "    print(i)\n"
   ]
  },
  {
   "cell_type": "code",
   "execution_count": 51,
   "metadata": {},
   "outputs": [
    {
     "name": "stdout",
     "output_type": "stream",
     "text": [
      "Enter the number : 10\n",
      "*\n",
      "**\n",
      "***\n",
      "****\n",
      "*****\n",
      "******\n",
      "*******\n",
      "********\n",
      "*********\n",
      "**********\n"
     ]
    }
   ],
   "source": [
    "var2 = int(input(\"Enter the number : \"))\n",
    "var1 = 1\n",
    "while(var1 <= var2):\n",
    "    print('*' * var1)\n",
    "    var1 = var1+1\n",
    "    "
   ]
  },
  {
   "cell_type": "code",
   "execution_count": 52,
   "metadata": {},
   "outputs": [
    {
     "name": "stdout",
     "output_type": "stream",
     "text": [
      "Enter the value - 1:10\n",
      "Enter the value - 2:20\n",
      "30\n"
     ]
    }
   ],
   "source": [
    "num1 = int(input(\"Enter the value - 1:\"))\n",
    "num2 = int(input(\"Enter the value - 2:\"))\n",
    "\n",
    "\n",
    "def addition(a, b):\n",
    "    c: int = a + b\n",
    "    return c\n",
    "\n",
    "\n",
    "print(addition(num1, num2))"
   ]
  },
  {
   "cell_type": "code",
   "execution_count": 17,
   "metadata": {},
   "outputs": [
    {
     "name": "stdout",
     "output_type": "stream",
     "text": [
      "Enter the number : 10\n",
      "1\n",
      "3\n",
      "5\n",
      "7\n",
      "9\n"
     ]
    }
   ],
   "source": [
    "# print odd number\n",
    "a = int(input(\"Enter the number : \"))\n",
    "b=1\n",
    "try:\n",
    "    if(a>=0):\n",
    "        while(b<=a):\n",
    "            if(b%2==1):\n",
    "                print(b)            \n",
    "            b=b+1\n",
    "    else:\n",
    "        print(\"Please enter valid number...!\")\n",
    "except Exception:\n",
    "    print(Exception)"
   ]
  },
  {
   "cell_type": "markdown",
   "metadata": {},
   "source": [
    "# lambda functions"
   ]
  },
  {
   "cell_type": "code",
   "execution_count": 21,
   "metadata": {},
   "outputs": [
    {
     "name": "stdout",
     "output_type": "stream",
     "text": [
      "The sum value of 10 and 20 is  30\n"
     ]
    }
   ],
   "source": [
    "sum = lambda num1,num2:num1+num2\n",
    "print(\"The sum value of 10 and 20 is \",sum(10,20))"
   ]
  },
  {
   "cell_type": "code",
   "execution_count": null,
   "metadata": {},
   "outputs": [],
   "source": []
  }
 ],
 "metadata": {
  "kernelspec": {
   "display_name": "Python 3",
   "language": "python",
   "name": "python3"
  },
  "language_info": {
   "codemirror_mode": {
    "name": "ipython",
    "version": 3
   },
   "file_extension": ".py",
   "mimetype": "text/x-python",
   "name": "python",
   "nbconvert_exporter": "python",
   "pygments_lexer": "ipython3",
   "version": "3.6.5"
  }
 },
 "nbformat": 4,
 "nbformat_minor": 2
}
