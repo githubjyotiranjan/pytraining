{
 "cells": [
  {
   "cell_type": "markdown",
   "metadata": {},
   "source": [
    "# Classes and Objects"
   ]
  },
  {
   "cell_type": "code",
   "execution_count": 1,
   "metadata": {},
   "outputs": [
    {
     "name": "stdout",
     "output_type": "stream",
     "text": [
      "My name is guru\n"
     ]
    }
   ],
   "source": [
    "class Guru:\n",
    "    a=100\n",
    "    print(\"My name is guru\")\n",
    "    "
   ]
  },
  {
   "cell_type": "code",
   "execution_count": 6,
   "metadata": {},
   "outputs": [
    {
     "name": "stdout",
     "output_type": "stream",
     "text": [
      "20\n",
      "100\n"
     ]
    }
   ],
   "source": [
    "class parent:\n",
    "    v1 = 100\n",
    "class addfun:\n",
    "    def additionOperatio(a,b):\n",
    "        c= a+b\n",
    "        return c\n",
    "    print(additionOperatio(10,10))\n",
    "    print(parent().v1)"
   ]
  },
  {
   "cell_type": "code",
   "execution_count": 17,
   "metadata": {},
   "outputs": [
    {
     "name": "stdout",
     "output_type": "stream",
     "text": [
      "10\n"
     ]
    }
   ],
   "source": [
    "# using self\n",
    "class Guru:\n",
    "    def __init__(self,a,b):\n",
    "        self.a=a\n",
    "        self.b=b\n",
    "obj = Guru(10,10)\n",
    "print(obj.a)        "
   ]
  },
  {
   "cell_type": "code",
   "execution_count": 28,
   "metadata": {},
   "outputs": [],
   "source": [
    "import hello\n",
    "print(hello.funstuff.hf())"
   ]
  },
  {
   "cell_type": "markdown",
   "metadata": {},
   "source": [
    "# file Operation"
   ]
  },
  {
   "cell_type": "code",
   "execution_count": 31,
   "metadata": {},
   "outputs": [
    {
     "data": {
      "text/plain": [
       "5"
      ]
     },
     "execution_count": 31,
     "metadata": {},
     "output_type": "execute_result"
    }
   ],
   "source": [
    "#write a file\n",
    "file=open(\"fun.txt\",\"w\")\n",
    "file.write(\"Hello\")"
   ]
  },
  {
   "cell_type": "code",
   "execution_count": 30,
   "metadata": {},
   "outputs": [
    {
     "name": "stdout",
     "output_type": "stream",
     "text": [
      "Hello\n"
     ]
    }
   ],
   "source": [
    "#read a file\n",
    "file=open(\"fun.txt\",\"r\")\n",
    "print(file.read())"
   ]
  },
  {
   "cell_type": "code",
   "execution_count": 48,
   "metadata": {},
   "outputs": [
    {
     "name": "stdout",
     "output_type": "stream",
     "text": [
      "\"deployment\" ---> 2\n",
      "2017. ---> 1\n",
      "Actually, ---> 1\n",
      "Also, ---> 1\n",
      "As ---> 1\n",
      "Bottle, ---> 1\n",
      "But ---> 1\n",
      "But, ---> 3\n",
      "By ---> 1\n",
      "Dec ---> 1\n",
      "Django ---> 4\n",
      "Django! ---> 1\n",
      "Django, ---> 2\n",
      "Django2.0 ---> 2\n",
      "Flask, ---> 1\n",
      "Hellon ---> 1\n",
      "It ---> 1\n",
      "Just ---> 1\n",
      "MVC, ---> 1\n",
      "Now ---> 1\n",
      "ORM, ---> 1\n",
      "OS, ---> 1\n",
      "Ppython ---> 1\n",
      "Pyramid, ---> 1\n",
      "Python ---> 4\n",
      "Python, ---> 2\n",
      "Python. ---> 1\n",
      "Python2 ---> 1\n",
      "Python3 ---> 1\n",
      "Python3.0, ---> 1\n",
      "The ---> 2\n",
      "These ---> 1\n",
      "To ---> 1\n",
      "US ---> 1\n",
      "With ---> 1\n",
      "a ---> 4\n",
      "about ---> 1\n",
      "also ---> 1\n",
      "among ---> 1\n",
      "and ---> 2\n",
      "application ---> 5\n",
      "application. ---> 1\n",
      "are ---> 1\n",
      "as ---> 1\n",
      "be ---> 2\n",
      "because ---> 1\n",
      "bothering ---> 1\n",
      "build ---> 1\n",
      "can ---> 3\n",
      "cause ---> 1\n",
      "code ---> 1\n",
      "data ---> 1\n",
      "databases. ---> 1\n",
      "dependencies, ---> 1\n",
      "develop ---> 2\n",
      "does ---> 1\n",
      "easily ---> 1\n",
      "errors ---> 1\n",
      "etc. ---> 3\n",
      "famous ---> 1\n",
      "feedbacks ---> 1\n",
      "following ---> 2\n",
      "for ---> 2\n",
      "framework ---> 2\n",
      "frameworks ---> 1\n",
      "friends ---> 1\n",
      "from ---> 2\n",
      "frustrates ---> 1\n",
      "frustrating. ---> 1\n",
      "full ---> 1\n",
      "generator, ---> 1\n",
      "getting ---> 1\n",
      "good ---> 1\n",
      "if ---> 1\n",
      "in ---> 3\n",
      "install ---> 1\n",
      "installation ---> 2\n",
      "instruction ---> 1\n",
      "is ---> 10\n",
      "it ---> 1\n",
      "just ---> 1\n",
      "language ---> 1\n",
      "language. ---> 1\n",
      "languages. ---> 1\n",
      "latest ---> 1\n",
      "learning ---> 1\n",
      "learning, ---> 1\n",
      "libraries ---> 1\n",
      "like ---> 1\n",
      "line, ---> 1\n",
      "machine ---> 1\n",
      "more ---> 1\n",
      "most ---> 3\n",
      "motivate ---> 1\n",
      "need ---> 1\n",
      "not ---> 1\n",
      "nothing ---> 1\n",
      "now, ---> 1\n",
      "obviously ---> 1\n",
      "of ---> 4\n",
      "on ---> 1\n",
      "one ---> 2\n",
      "only ---> 1\n",
      "or ---> 4\n",
      "other ---> 1\n",
      "others ---> 1\n",
      "popular ---> 2\n",
      "popular. ---> 1\n",
      "practice, ---> 1\n",
      "programing ---> 1\n",
      "programming. ---> 1\n",
      "publish ---> 1\n",
      "quite ---> 1\n",
      "released ---> 1\n",
      "requires ---> 1\n",
      "run ---> 1\n",
      "script ---> 1\n",
      "service, ---> 1\n",
      "service. ---> 1\n",
      "setting ---> 1\n",
      "setup ---> 1\n",
      "several ---> 1\n",
      "software ---> 1\n",
      "stack ---> 1\n",
      "start ---> 1\n",
      "suitable ---> 1\n",
      "support ---> 1\n",
      "teach ---> 1\n",
      "that ---> 1\n",
      "that, ---> 1\n",
      "the ---> 9\n",
      "there ---> 3\n",
      "think ---> 1\n",
      "this ---> 1\n",
      "time ---> 1\n",
      "to ---> 8\n",
      "universities. ---> 1\n",
      "up ---> 1\n",
      "us... ---> 1\n",
      "use. ---> 1\n",
      "used ---> 1\n",
      "version. ---> 1\n",
      "versions, ---> 1\n",
      "was ---> 1\n",
      "way, ---> 1\n",
      "web ---> 5\n",
      "well-structured ---> 1\n",
      "which ---> 1\n",
      "will ---> 1\n",
      "with ---> 2\n",
      "work ---> 1\n",
      "worry ---> 1\n",
      "you ---> 3\n",
      "you. ---> 1\n",
      "your ---> 1\n"
     ]
    }
   ],
   "source": [
    "#read a file with count of words\n",
    "file=open(\"myfile.txt\",\"r\")\n",
    "robj = file.read().split()\n",
    "#print(robj)\n",
    "myset = sorted(set(robj))\n",
    "for word in myset:\n",
    "    print(\"{0} ---> {1}\".format(word,robj.count(word)))"
   ]
  },
  {
   "cell_type": "code",
   "execution_count": 67,
   "metadata": {},
   "outputs": [
    {
     "name": "stdout",
     "output_type": "stream",
     "text": [
      "\"deployment\" ---> 2\n",
      "2017 ---> 1\n",
      "Actually ---> 1\n",
      "Also ---> 1\n",
      "As ---> 1\n",
      "Bottle ---> 1\n",
      "But ---> 4\n",
      "By ---> 1\n",
      "Dec ---> 1\n",
      "Django ---> 6\n",
      "Django! ---> 1\n",
      "Django20 ---> 2\n",
      "Flask ---> 1\n",
      "Hellon ---> 1\n",
      "It ---> 1\n",
      "Just ---> 1\n",
      "MVC ---> 1\n",
      "Now ---> 1\n",
      "ORM ---> 1\n",
      "OS ---> 1\n",
      "Ppython ---> 1\n",
      "Pyramid ---> 1\n",
      "Python ---> 7\n",
      "Python2 ---> 1\n",
      "Python3 ---> 1\n",
      "Python30 ---> 1\n",
      "The ---> 2\n",
      "These ---> 1\n",
      "To ---> 1\n",
      "US ---> 1\n",
      "With ---> 1\n",
      "a ---> 4\n",
      "about ---> 1\n",
      "also ---> 1\n",
      "among ---> 1\n",
      "and ---> 2\n",
      "application ---> 6\n",
      "are ---> 1\n",
      "as ---> 1\n",
      "be ---> 2\n",
      "because ---> 1\n",
      "bothering ---> 1\n",
      "build ---> 1\n",
      "can ---> 3\n",
      "cause ---> 1\n",
      "code ---> 1\n",
      "data ---> 1\n",
      "databases ---> 1\n",
      "dependencies ---> 1\n",
      "develop ---> 2\n",
      "does ---> 1\n",
      "easily ---> 1\n",
      "errors ---> 1\n",
      "etc ---> 3\n",
      "famous ---> 1\n",
      "feedbacks ---> 1\n",
      "following ---> 2\n",
      "for ---> 2\n",
      "framework ---> 2\n",
      "frameworks ---> 1\n",
      "friends ---> 1\n",
      "from ---> 2\n",
      "frustrates ---> 1\n",
      "frustrating ---> 1\n",
      "full ---> 1\n",
      "generator ---> 1\n",
      "getting ---> 1\n",
      "good ---> 1\n",
      "if ---> 1\n",
      "in ---> 3\n",
      "install ---> 1\n",
      "installation ---> 2\n",
      "instruction ---> 1\n",
      "is ---> 10\n",
      "it ---> 1\n",
      "just ---> 1\n",
      "language ---> 2\n",
      "languages ---> 1\n",
      "latest ---> 1\n",
      "learning ---> 2\n",
      "libraries ---> 1\n",
      "like ---> 1\n",
      "line ---> 1\n",
      "machine ---> 1\n",
      "more ---> 1\n",
      "most ---> 3\n",
      "motivate ---> 1\n",
      "need ---> 1\n",
      "not ---> 1\n",
      "nothing ---> 1\n",
      "now ---> 1\n",
      "obviously ---> 1\n",
      "of ---> 4\n",
      "on ---> 1\n",
      "one ---> 2\n",
      "only ---> 1\n",
      "or ---> 4\n",
      "other ---> 1\n",
      "others ---> 1\n",
      "popular ---> 3\n",
      "practice ---> 1\n",
      "programing ---> 1\n",
      "programming ---> 1\n",
      "publish ---> 1\n",
      "quite ---> 1\n",
      "released ---> 1\n",
      "requires ---> 1\n",
      "run ---> 1\n",
      "script ---> 1\n",
      "service ---> 2\n",
      "setting ---> 1\n",
      "setup ---> 1\n",
      "several ---> 1\n",
      "software ---> 1\n",
      "stack ---> 1\n",
      "start ---> 1\n",
      "suitable ---> 1\n",
      "support ---> 1\n",
      "teach ---> 1\n",
      "that ---> 2\n",
      "the ---> 9\n",
      "there ---> 3\n",
      "think ---> 1\n",
      "this ---> 1\n",
      "time ---> 1\n",
      "to ---> 8\n",
      "universities ---> 1\n",
      "up ---> 1\n",
      "us ---> 1\n",
      "use ---> 1\n",
      "used ---> 1\n",
      "version ---> 1\n",
      "versions ---> 1\n",
      "was ---> 1\n",
      "way ---> 1\n",
      "web ---> 5\n",
      "well-structured ---> 1\n",
      "which ---> 1\n",
      "will ---> 1\n",
      "with ---> 2\n",
      "work ---> 1\n",
      "worry ---> 1\n",
      "you ---> 4\n",
      "your ---> 1\n"
     ]
    }
   ],
   "source": [
    "file=open(\"myfile.txt\",\"r\")\n",
    "var = file.read()\n",
    "var = var.replace(\".\",\"\")\n",
    "var = var.replace(\",\",\"\")\n",
    "words = var.split()\n",
    "#words = ['' if i in '.' else i for i in mywords]\n",
    "def countWords(A):\n",
    "   dic={}\n",
    "   for x in A:\n",
    "       if not x in dic:       \n",
    "          dic[x] = A.count(x)\n",
    "   return dic\n",
    "dic = countWords(words)\n",
    "sorted_items=sorted(dic.items())   \n",
    "for word in sorted_items:\n",
    "    print(\"{0} ---> {1}\".format(word[0],word[1]))"
   ]
  },
  {
   "cell_type": "markdown",
   "metadata": {},
   "source": [
    "# Numpy Libraries"
   ]
  },
  {
   "cell_type": "code",
   "execution_count": 81,
   "metadata": {},
   "outputs": [
    {
     "name": "stdout",
     "output_type": "stream",
     "text": [
      "[0 1 2 3 4 5 6 7 8 9]\n",
      "[ 0  2  4  6  8 10 12 14 16 18]\n",
      "[0 0 0 0 0 0 0 0 0 0]\n",
      "[ 0  1  4  9 16 25 36 49 64 81]\n",
      "[nan  1.  1.  1.  1.  1.  1.  1.  1.  1.]\n",
      "[0 0 0 0 0 0 0 0 0 0]\n",
      "[       inf 1.         0.5        0.33333333 0.25       0.2\n",
      " 0.16666667 0.14285714 0.125      0.11111111]\n",
      "[0.         1.         1.41421356 1.73205081 2.         2.23606798\n",
      " 2.44948974 2.64575131 2.82842712 3.        ]\n"
     ]
    },
    {
     "name": "stderr",
     "output_type": "stream",
     "text": [
      "C:\\ProgramData\\Anaconda3\\lib\\site-packages\\ipykernel_launcher.py:7: RuntimeWarning: invalid value encountered in true_divide\n",
      "  import sys\n",
      "C:\\ProgramData\\Anaconda3\\lib\\site-packages\\ipykernel_launcher.py:8: RuntimeWarning: divide by zero encountered in remainder\n",
      "  \n",
      "C:\\ProgramData\\Anaconda3\\lib\\site-packages\\ipykernel_launcher.py:9: RuntimeWarning: divide by zero encountered in true_divide\n",
      "  if __name__ == '__main__':\n"
     ]
    }
   ],
   "source": [
    "import numpy as np\n",
    "arr = np.arange(0,10)\n",
    "print(arr)\n",
    "print(arr+arr)\n",
    "print(arr-arr)\n",
    "print(arr*arr) # scalar multiplication\n",
    "print(arr/arr)\n",
    "print(arr%arr)\n",
    "print(1/arr)\n",
    "print(np.sqrt(arr))"
   ]
  },
  {
   "cell_type": "code",
   "execution_count": 85,
   "metadata": {},
   "outputs": [
    {
     "data": {
      "text/plain": [
       "array([1, 2, 3])"
      ]
     },
     "execution_count": 85,
     "metadata": {},
     "output_type": "execute_result"
    }
   ],
   "source": [
    "import numpy as np\n",
    "a = [1,2,3]\n",
    "np.array(a)"
   ]
  },
  {
   "cell_type": "code",
   "execution_count": 86,
   "metadata": {},
   "outputs": [
    {
     "data": {
      "text/plain": [
       "array([[1, 2, 3],\n",
       "       [4, 5, 6],\n",
       "       [7, 8, 9]])"
      ]
     },
     "execution_count": 86,
     "metadata": {},
     "output_type": "execute_result"
    }
   ],
   "source": [
    "import numpy as np\n",
    "a_matrix = [[1,2,3],[4,5,6],[7,8,9]]\n",
    "np.array(a_matrix)"
   ]
  },
  {
   "cell_type": "code",
   "execution_count": 91,
   "metadata": {},
   "outputs": [
    {
     "data": {
      "text/plain": [
       "array([-100,  -90,  -80,  -70,  -60,  -50,  -40,  -30,  -20,  -10,    0,\n",
       "         10,   20,   30,   40,   50,   60,   70,   80,   90])"
      ]
     },
     "execution_count": 91,
     "metadata": {},
     "output_type": "execute_result"
    }
   ],
   "source": [
    "import numpy as np\n",
    "np.arange(-100,100,10)"
   ]
  },
  {
   "cell_type": "code",
   "execution_count": 97,
   "metadata": {},
   "outputs": [
    {
     "name": "stdout",
     "output_type": "stream",
     "text": [
      "[0. 0. 0.]\n",
      "[[0. 0. 0. 0. 0.]\n",
      " [0. 0. 0. 0. 0.]\n",
      " [0. 0. 0. 0. 0.]\n",
      " [0. 0. 0. 0. 0.]\n",
      " [0. 0. 0. 0. 0.]]\n"
     ]
    }
   ],
   "source": [
    "import numpy as np\n",
    "print(np.zeros(3))\n",
    "print(np.zeros((5,5)))"
   ]
  },
  {
   "cell_type": "code",
   "execution_count": 98,
   "metadata": {},
   "outputs": [
    {
     "name": "stdout",
     "output_type": "stream",
     "text": [
      "[1. 1. 1.]\n",
      "[[1. 1. 1. 1. 1.]\n",
      " [1. 1. 1. 1. 1.]\n",
      " [1. 1. 1. 1. 1.]\n",
      " [1. 1. 1. 1. 1.]\n",
      " [1. 1. 1. 1. 1.]]\n"
     ]
    }
   ],
   "source": [
    "import numpy as np\n",
    "print(np.ones(3))\n",
    "print(np.ones((5,5)))"
   ]
  },
  {
   "cell_type": "code",
   "execution_count": 108,
   "metadata": {},
   "outputs": [
    {
     "data": {
      "text/plain": [
       "array([ 0.        ,  1.11111111,  2.22222222,  3.33333333,  4.44444444,\n",
       "        5.55555556,  6.66666667,  7.77777778,  8.88888889, 10.        ])"
      ]
     },
     "execution_count": 108,
     "metadata": {},
     "output_type": "execute_result"
    }
   ],
   "source": [
    "import numpy as np\n",
    "np.linspace(0,10,10)"
   ]
  },
  {
   "cell_type": "code",
   "execution_count": 2,
   "metadata": {},
   "outputs": [
    {
     "data": {
      "text/plain": [
       "array([[1., 0., 0.],\n",
       "       [0., 1., 0.],\n",
       "       [0., 0., 1.]])"
      ]
     },
     "execution_count": 2,
     "metadata": {},
     "output_type": "execute_result"
    }
   ],
   "source": [
    "import numpy as np\n",
    "np.eye(3)"
   ]
  },
  {
   "cell_type": "code",
   "execution_count": 121,
   "metadata": {},
   "outputs": [
    {
     "name": "stdout",
     "output_type": "stream",
     "text": [
      "[0.14846082 0.7581122 ]\n",
      "[0.22586485 0.70254732 0.89610935 0.40376813 0.78839098 0.80837304\n",
      " 0.70465123 0.57407019 0.35427825 0.71731114]\n",
      "[[0.29551919 0.76839828 0.58329455 0.19244975 0.14446468]\n",
      " [0.25274765 0.86486231 0.71417559 0.87664483 0.43548259]\n",
      " [0.1053045  0.34938193 0.9164315  0.90359828 0.69007965]\n",
      " [0.79492463 0.01551562 0.18244585 0.36311582 0.4639988 ]\n",
      " [0.50873819 0.31826705 0.27638892 0.29120462 0.74677333]]\n",
      "[-0.12853421 -2.53171714  0.11184015]\n",
      "[50 15  5]\n"
     ]
    }
   ],
   "source": [
    "import numpy as np\n",
    "print(np.random.rand(2)) #uniform distribution\n",
    "print(np.random.rand(10))\n",
    "print(np.random.rand(5,5))\n",
    "print(np.random.randn(3)) #Normal distribution\n",
    "print(np.random.randint(0,100,3)) #integer distribution"
   ]
  },
  {
   "cell_type": "code",
   "execution_count": 128,
   "metadata": {},
   "outputs": [
    {
     "name": "stdout",
     "output_type": "stream",
     "text": [
      "(10,)\n",
      "[[0 1 2 3 4 5 6 7 8 9]]\n",
      "[[0]\n",
      " [1]\n",
      " [2]\n",
      " [3]\n",
      " [4]\n",
      " [5]\n",
      " [6]\n",
      " [7]\n",
      " [8]\n",
      " [9]]\n",
      "int32\n"
     ]
    }
   ],
   "source": [
    "import numpy as np\n",
    "arr = np.arange(0,10)\n",
    "print(arr.shape)\n",
    "print(arr.reshape(1,10))\n",
    "print(arr.reshape(10,1))\n",
    "print(arr.dtype)"
   ]
  },
  {
   "cell_type": "markdown",
   "metadata": {},
   "source": [
    "# Conditional Game"
   ]
  },
  {
   "cell_type": "code",
   "execution_count": null,
   "metadata": {},
   "outputs": [
    {
     "name": "stdout",
     "output_type": "stream",
     "text": [
      "Guess the 5 letter word...!\n",
      "Enter the 1 Letter : a\n",
      "You won you found the 1Letter\n",
      "Enter the 2 Letter : b\n",
      "You loose you have 4attempts only\n",
      "Enter the 2 Letter : g\n",
      "You loose you have 3attempts only\n",
      "Enter the 2 Letter : d\n",
      "You loose you have 2attempts only\n",
      "Enter the 2 Letter : p\n",
      "You won you found the 2Letter\n",
      "Enter the 3 Letter : p\n",
      "You won you found the 3Letter\n",
      "Enter the 4 Letter : l\n",
      "You won you found the 4Letter\n",
      "Enter the 5 Letter : e\n",
      "You won you found the 5Letter\n",
      "You found the word : apple\n"
     ]
    }
   ],
   "source": [
    "print(\"Guess the 5 letter word...!\")\n",
    "word = \"apple\"\n",
    "attempt = 1\n",
    "while(attempt<=5):\n",
    "    chcount = 0\n",
    "    while(chcount<=len(word)):\n",
    "        in_val = input(\"Enter the \" + str(chcount+1) + \" Letter : \")\n",
    "        if(word[chcount]==in_val):\n",
    "            print(\"You won you found the \"+ str(chcount+1) + \"Letter\")\n",
    "            if (chcount + 1 == 5):\n",
    "                print(\"You found the word : apple\")\n",
    "            chcount = chcount+1\n",
    "        else:\n",
    "            if(attempt == 5):\n",
    "                print(\"Sorry You loss the game\")\n",
    "            else:\n",
    "                print(\"You loose you have \"+ str(5-attempt) + \"attempts only\")\n",
    "                attempt = attempt + 1           "
   ]
  },
  {
   "cell_type": "code",
   "execution_count": 5,
   "metadata": {},
   "outputs": [],
   "source": []
  },
  {
   "cell_type": "code",
   "execution_count": null,
   "metadata": {},
   "outputs": [],
   "source": []
  }
 ],
 "metadata": {
  "kernelspec": {
   "display_name": "Python 3",
   "language": "python",
   "name": "python3"
  },
  "language_info": {
   "codemirror_mode": {
    "name": "ipython",
    "version": 3
   },
   "file_extension": ".py",
   "mimetype": "text/x-python",
   "name": "python",
   "nbconvert_exporter": "python",
   "pygments_lexer": "ipython3",
   "version": "3.6.5"
  }
 },
 "nbformat": 4,
 "nbformat_minor": 2
}
