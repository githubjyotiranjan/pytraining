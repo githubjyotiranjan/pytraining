{
 "cells": [
  {
   "cell_type": "code",
   "execution_count": 6,
   "metadata": {},
   "outputs": [
    {
     "name": "stdout",
     "output_type": "stream",
     "text": [
      "Guest your a character t\n",
      "Correct word \n",
      "Guest your a character e\n",
      "Correct word \n",
      "Guest your a character s\n",
      "Correct word \n",
      "Guest your a character t\n",
      "Correct word \n",
      "Guest your a character i\n",
      "Correct word \n",
      "Guest your a character n\n",
      "Correct word \n",
      "Guest your a character g\n",
      "Correct word \n",
      "OK\n"
     ]
    }
   ],
   "source": [
    "word='testing'\n",
    "cnt=0\n",
    "guest=True\n",
    "failCnt=10\n",
    "flag=True\n",
    "while flag:\n",
    "    var=input(\"Guest a character \")\n",
    "    if var==word[cnt]:\n",
    "        print (\"Correct word \")\n",
    "        cnt+=1;\n",
    "        if cnt==len(word):\n",
    "            flag=False            \n",
    "    else:\n",
    "        failCnt = failCnt -1\n",
    "        print(\"Try again \",failCnt,\" life\")        \n",
    "        if failCnt==0:\n",
    "            print (\"You tried all and lost\")\n",
    "            flag=False\n",
    "            guest=False\n",
    "if guest:\n",
    "    print (\"OK you got the correct word\")\n",
    "else:\n",
    "    print (\"Opps wrong attempt\")"
   ]
  },
  {
   "cell_type": "code",
   "execution_count": null,
   "metadata": {},
   "outputs": [],
   "source": []
  }
 ],
 "metadata": {
  "kernelspec": {
   "display_name": "Python 3",
   "language": "python",
   "name": "python3"
  },
  "language_info": {
   "codemirror_mode": {
    "name": "ipython",
    "version": 3
   },
   "file_extension": ".py",
   "mimetype": "text/x-python",
   "name": "python",
   "nbconvert_exporter": "python",
   "pygments_lexer": "ipython3",
   "version": "3.6.5"
  }
 },
 "nbformat": 4,
 "nbformat_minor": 2
}
