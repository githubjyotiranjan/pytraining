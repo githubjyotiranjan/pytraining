{
 "cells": [
  {
   "cell_type": "markdown",
   "metadata": {},
   "source": [
    "## Lambda functions"
   ]
  },
  {
   "cell_type": "code",
   "execution_count": 1,
   "metadata": {},
   "outputs": [
    {
     "name": "stdout",
     "output_type": "stream",
     "text": [
      "Sum of 10 and 20 is  30\n"
     ]
    }
   ],
   "source": [
    "Sum = lambda num1, num2: num1 + num2\n",
    "print(\"Sum of 10 and 20 is \", Sum(10,20))"
   ]
  },
  {
   "cell_type": "code",
   "execution_count": 3,
   "metadata": {},
   "outputs": [
    {
     "name": "stdout",
     "output_type": "stream",
     "text": [
      "Enter a number5\n",
      "Enter second number6\n",
      "Sum of 5 and 6 is 11\n"
     ]
    }
   ],
   "source": [
    "num1 = int(input(\"Enter a number \"))\n",
    "num2 = int(input(\"Enter second number \"))\n",
    "\n",
    "print(\"Sum of {} and {} is {}\".format(num1, num2, Sum(num1,num2)))"
   ]
  },
  {
   "cell_type": "markdown",
   "metadata": {},
   "source": [
    "## OOPS"
   ]
  },
  {
   "cell_type": "code",
   "execution_count": 13,
   "metadata": {},
   "outputs": [],
   "source": [
    "class Dog:\n",
    "    pass\n",
    "dog1 = Dog()\n",
    "dog1.name = \"Doggy\"\n",
    "dog2 = Dog()\n",
    "dog2.name = \"Bruno\"\n",
    "dog2.color = \"Brown\"\n"
   ]
  },
  {
   "cell_type": "code",
   "execution_count": 14,
   "metadata": {},
   "outputs": [
    {
     "name": "stdout",
     "output_type": "stream",
     "text": [
      "Doggy\n",
      "Bruno\n",
      "Brown\n"
     ]
    }
   ],
   "source": [
    "print(dog1.name)\n",
    "print(dog2.name)\n",
    "print(dog2.color)"
   ]
  },
  {
   "cell_type": "code",
   "execution_count": 27,
   "metadata": {},
   "outputs": [
    {
     "name": "stdout",
     "output_type": "stream",
     "text": [
      "Bruno\n",
      "5\n",
      "Testing \n"
     ]
    }
   ],
   "source": [
    "class Dog:\n",
    "    def __init__(self, name, age, teeth):\n",
    "        self.name = name\n",
    "        self.age = age,\n",
    "        self.teeth = teeth\n",
    "        \n",
    "    @staticmethod    \n",
    "    def test():\n",
    "        print(\"Testing \")\n",
    "\n",
    "dog1 = Dog(\"Bruno\",3,5)\n",
    "print(dog1.name)\n",
    "print(dog1.teeth)\n",
    "dog1.test()"
   ]
  },
  {
   "cell_type": "code",
   "execution_count": null,
   "metadata": {},
   "outputs": [],
   "source": [
    "#import Hello # name of the file\n",
    "#Hello.FunStuff.haveFun() File name-> Class name -> function Name\n"
   ]
  },
  {
   "cell_type": "code",
   "execution_count": 35,
   "metadata": {},
   "outputs": [],
   "source": [
    "file = open(\"test.txt\",\"w\")\n",
    "file.write(\"Hello World! New file\")\n",
    "file.close()\n"
   ]
  },
  {
   "cell_type": "code",
   "execution_count": 102,
   "metadata": {},
   "outputs": [
    {
     "name": "stdout",
     "output_type": "stream",
     "text": [
      "['Python', 'is', 'an', 'interpreted', 'high-level', 'programming', 'language', 'for', 'general-purpose', 'programming.', 'Created', 'by', 'Guido', 'van', 'Rossum', 'and', 'first', 'released', 'in', '1991,', 'Python', 'has', 'a', 'design', 'philosophy', 'that', 'emphasizes', 'code', 'readability,', 'notably', 'using', 'significant', 'whitespace.', 'It', 'provides', 'constructs', 'that', 'enable', 'clear', 'programming', 'on', 'both', 'small', 'and', 'large', 'scales.[26]', 'Python', 'features', 'a', 'dynamic', 'type', 'system', 'and', 'automatic', 'memory', 'management.', 'It', 'supports', 'multiple', 'programming', 'paradigms,', 'including', 'object-oriented,', 'imperative,', 'functional', 'and', 'procedural,', 'and', 'has', 'a', 'large', 'and', 'comprehensive', 'standard', 'library.[27]', 'Python', 'interpreters', 'are', 'available', 'for', 'many', 'operating', 'systems.', 'CPython,', 'the', 'reference', 'implementation', 'of', 'Python,', 'is', 'open', 'source', 'software[28]', 'and', 'has', 'a', 'community-based', 'development', 'model,', 'as', 'do', 'nearly', 'all', 'of', 'its', 'variant', 'implementations.', 'CPython', 'is', 'managed', 'by', 'the', 'non-profit', 'Python', 'Software', 'Foundation.for', 'item,', 'value', 'in', 'Wordcounts:']\n"
     ]
    }
   ],
   "source": [
    "file = open(\"wordtext.txt\",\"r\")\n",
    "words = list(file.read().split())\n",
    "print(words)\n"
   ]
  },
  {
   "cell_type": "code",
   "execution_count": 103,
   "metadata": {},
   "outputs": [
    {
     "name": "stdout",
     "output_type": "stream",
     "text": [
      "CPython 1\n",
      "Created 1\n",
      "Guido 1\n",
      "It 2\n",
      "Python 5\n",
      "Rossum 1\n",
      "Software 1\n",
      "a 4\n",
      "all 1\n",
      "an 1\n",
      "and 7\n",
      "are 1\n",
      "as 1\n",
      "automatic 1\n",
      "available 1\n",
      "both 1\n",
      "by 2\n",
      "clear 1\n",
      "code 1\n",
      "comprehensive 1\n",
      "constructs 1\n",
      "design 1\n",
      "development 1\n",
      "do 1\n",
      "dynamic 1\n",
      "emphasizes 1\n",
      "enable 1\n",
      "features 1\n",
      "first 1\n",
      "for 2\n",
      "functional 1\n",
      "has 3\n",
      "implementation 1\n",
      "in 2\n",
      "including 1\n",
      "interpreted 1\n",
      "interpreters 1\n",
      "is 3\n",
      "its 1\n",
      "language 1\n",
      "large 2\n",
      "managed 1\n",
      "many 1\n",
      "memory 1\n",
      "multiple 1\n",
      "nearly 1\n",
      "notably 1\n",
      "of 2\n",
      "on 1\n",
      "open 1\n",
      "operating 1\n",
      "philosophy 1\n",
      "programming 3\n",
      "provides 1\n",
      "reference 1\n",
      "released 1\n",
      "significant 1\n",
      "small 1\n",
      "source 1\n",
      "standard 1\n",
      "supports 1\n",
      "system 1\n",
      "that 2\n",
      "the 2\n",
      "type 1\n",
      "using 1\n",
      "value 1\n",
      "van 1\n",
      "variant 1\n"
     ]
    }
   ],
   "source": [
    "Wordcounts = dict()\n",
    "for key in words:\n",
    "    if key.isalnum():\n",
    "        if key in Wordcounts:\n",
    "            Wordcounts[key] += 1\n",
    "        else:\n",
    "            Wordcounts[key] = 1\n",
    "\n",
    "for word,count in sorted(Wordcounts.items()):\n",
    "    print(\"%s %s\"%(word,count))\n",
    "    "
   ]
  },
  {
   "cell_type": "code",
   "execution_count": null,
   "metadata": {},
   "outputs": [],
   "source": []
  }
 ],
 "metadata": {
  "kernelspec": {
   "display_name": "Python 3",
   "language": "python",
   "name": "python3"
  },
  "language_info": {
   "codemirror_mode": {
    "name": "ipython",
    "version": 3
   },
   "file_extension": ".py",
   "mimetype": "text/x-python",
   "name": "python",
   "nbconvert_exporter": "python",
   "pygments_lexer": "ipython3",
   "version": "3.6.5"
  }
 },
 "nbformat": 4,
 "nbformat_minor": 2
}
