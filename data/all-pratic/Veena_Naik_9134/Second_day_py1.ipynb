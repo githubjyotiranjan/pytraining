{
 "cells": [
  {
   "cell_type": "code",
   "execution_count": null,
   "metadata": {},
   "outputs": [],
   "source": [
    "\n",
    "print(\"\\t\\tWelcome to Word Guess game!\")\n",
    "print(\"You have 5 attempts to guess the word that I have choosen.\",\n",
    "\n",
    "      \"\\nI can only reply with 'yes' or 'no' and tell you the length of the word!\\n\")\n",
    "\n",
    "\n",
    "\n",
    "WORD = (\"Python\")\n",
    "\n",
    "correct = WORD\n",
    "\n",
    "tries = 1\n",
    "\n",
    "hint = WORD[0]\n",
    "\n",
    "\n",
    "\n",
    "# Tell the player the length of the word and let them guess it for the first time\n",
    "\n",
    "print(\"\\t\\tLength of the word: \", len(WORD),\"\\n\")\n",
    "print('correct')\n",
    "\n",
    "guess = input(\"Guess the letter: \")\n",
    "\n",
    "\n",
    "\n",
    "# Guessing loop\n",
    "\n",
    "while guess.lower() != correct.lower() and guess != \"\" and tries <= 5:\n",
    "\n",
    "    print(\"No!\")\n",
    "\n",
    "    tries += 1\n",
    "\n",
    "    if tries == 3:\n",
    "\n",
    "        response = input(\"Would you like a hint? y or n: \")\n",
    "\n",
    "        if response.lower() == \"y\":\n",
    "\n",
    "                print(\"The first letter of the word is: \", hint)\n",
    "\n",
    "    print(\"\\nTries remaining: \", 6-tries)\n",
    "\n",
    "    guess = input(\"Guess the word: \")\n",
    "\n",
    "    \n",
    "\n",
    "# Tell the player they was right or ran out of tries\n",
    "\n",
    "if guess.lower() == correct.lower():\n",
    "\n",
    "    print(\"\\nYes! You guessed the word! The word was: \", correct)\n",
    "\n",
    "    print(\"You guessed it in \", tries)"
   ]
  },
  {
   "cell_type": "code",
   "execution_count": null,
   "metadata": {},
   "outputs": [],
   "source": []
  }
 ],
 "metadata": {
  "kernelspec": {
   "display_name": "Python 3",
   "language": "python",
   "name": "python3"
  },
  "language_info": {
   "codemirror_mode": {
    "name": "ipython",
    "version": 3
   },
   "file_extension": ".py",
   "mimetype": "text/x-python",
   "name": "python",
   "nbconvert_exporter": "python",
   "pygments_lexer": "ipython3",
   "version": "3.6.5"
  }
 },
 "nbformat": 4,
 "nbformat_minor": 2
}
