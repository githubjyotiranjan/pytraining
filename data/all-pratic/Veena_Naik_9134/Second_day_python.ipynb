{
 "cells": [
  {
   "cell_type": "code",
   "execution_count": null,
   "metadata": {},
   "outputs": [
    {
     "name": "stdout",
     "output_type": "stream",
     "text": [
      "Welcome to \"Guess the Word Game!\"\n",
      "You have 5 attempts at guessing letters in a word\n",
      "Let's begin!\n",
      "\n",
      "\n",
      "Guess a letter: a\n",
      "yes!\n",
      "Guess a letter: l\n",
      "yes!\n",
      "Guess a letter: e\n",
      "yes!\n",
      "Guess a letter: p\n",
      "yes!\n",
      "Guess a letter: p\n",
      "yes!\n",
      "\n",
      "\n",
      "Now its time to guess. You have guessed 5 letters correctly.\n",
      "These letters are:  alepp\n",
      "Guess the whole word: apple\n",
      "Congrats!\n",
      "\n",
      "\n"
     ]
    }
   ],
   "source": [
    "import random\n",
    "\n",
    "word = ('apple')\n",
    "\n",
    "correct = word\n",
    "\n",
    "letter_guess = ''\n",
    "word_guess = ''\n",
    "store_letter = ''\n",
    "count = 0\n",
    "limit = 5\n",
    "\n",
    "print('Welcome to \"Guess the Word Game!\"')\n",
    "print('You have 5 attempts at guessing letters in a word')\n",
    "print('Let\\'s begin!')\n",
    "print('\\n')\n",
    "\n",
    "while count < limit:\n",
    "    letter_guess = input('Guess a letter: ')\n",
    "\n",
    "    if letter_guess in word:\n",
    "        print('yes!')\n",
    "        store_letter += letter_guess\n",
    "        count += 1\n",
    "\n",
    "    if letter_guess not in word:\n",
    "        print('no!')\n",
    "        count += 1\n",
    "\n",
    "   \n",
    "\n",
    "print('\\n')\n",
    "print('Now its time to guess. You have guessed',len(store_letter),'letters correctly.')\n",
    "print('These letters are: ', store_letter)\n",
    "\n",
    "word_guess = input('Guess the whole word: ')\n",
    "while word_guess:\n",
    "    if word_guess.lower() == correct:\n",
    "        print('Congrats!')\n",
    "        break\n",
    "\n",
    "    elif word_guess.lower() != correct:\n",
    "        print('Unlucky! The answer was,', word)\n",
    "        break\n",
    "\n",
    "print('\\n')\n",
    "input('Press Enter to leave the program')"
   ]
  },
  {
   "cell_type": "code",
   "execution_count": null,
   "metadata": {},
   "outputs": [],
   "source": []
  }
 ],
 "metadata": {
  "kernelspec": {
   "display_name": "Python 3",
   "language": "python",
   "name": "python3"
  },
  "language_info": {
   "codemirror_mode": {
    "name": "ipython",
    "version": 3
   },
   "file_extension": ".py",
   "mimetype": "text/x-python",
   "name": "python",
   "nbconvert_exporter": "python",
   "pygments_lexer": "ipython3",
   "version": "3.6.5"
  }
 },
 "nbformat": 4,
 "nbformat_minor": 2
}
