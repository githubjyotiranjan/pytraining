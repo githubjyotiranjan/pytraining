{
 "cells": [
  {
   "cell_type": "code",
   "execution_count": 5,
   "metadata": {},
   "outputs": [
    {
     "name": "stdout",
     "output_type": "stream",
     "text": [
      "    a   b   c   d\n",
      "0   0   1   2   3\n",
      "1   4   5   6   7\n",
      "2   8   9  10  11\n",
      "3  12  13  14  15\n"
     ]
    }
   ],
   "source": [
    "import numpy as np\n",
    "import pandas as pd\n",
    "df=pd.read_excel('C:\\\\Users\\\\Administrator\\\\Excel_Sample.xlsx')\n",
    "print(df)"
   ]
  },
  {
   "cell_type": "code",
   "execution_count": 10,
   "metadata": {},
   "outputs": [
    {
     "name": "stdout",
     "output_type": "stream",
     "text": [
      "          1|24|M|technician|85711\n",
      "0              2|53|F|other|94043\n",
      "1             3|23|M|writer|32067\n",
      "2         4|24|M|technician|43537\n",
      "3              5|33|F|other|15213\n",
      "4          6|42|M|executive|98101\n",
      "5      7|57|M|administrator|91344\n",
      "6      8|36|M|administrator|05201\n",
      "7            9|29|M|student|01002\n",
      "8            10|53|M|lawyer|90703\n",
      "9             11|39|F|other|30329\n",
      "10            12|28|F|other|06405\n",
      "11         13|47|M|educator|29206\n",
      "12        14|45|M|scientist|55106\n",
      "13         15|49|F|educator|97301\n",
      "14    16|21|M|entertainment|10309\n",
      "15       17|30|M|programmer|06355\n",
      "16            18|35|F|other|37212\n",
      "17        19|40|M|librarian|02138\n",
      "18        20|42|F|homemaker|95660\n",
      "19           21|26|M|writer|30068\n",
      "20           22|25|M|writer|40206\n",
      "21           23|30|F|artist|48197\n",
      "22           24|21|F|artist|94533\n",
      "23         25|39|M|engineer|55107\n",
      "24         26|49|M|engineer|21044\n",
      "25        27|40|F|librarian|30030\n",
      "26           28|32|M|writer|55369\n",
      "27       29|41|M|programmer|94043\n",
      "28           30|7|M|student|55436\n",
      "29           31|24|M|artist|10003\n",
      "..                            ...\n",
      "912          914|44|F|other|08105\n",
      "913  915|50|M|entertainment|60614\n",
      "914       916|27|M|engineer|N2L5N\n",
      "915        917|22|F|student|20006\n",
      "916      918|40|M|scientist|70116\n",
      "917          919|25|M|other|14216\n",
      "918         920|30|F|artist|90008\n",
      "919        921|20|F|student|98801\n",
      "920  922|29|F|administrator|21114\n",
      "921        923|21|M|student|E2E3R\n",
      "922          924|29|M|other|11753\n",
      "923       925|18|F|salesman|49036\n",
      "924  926|49|M|entertainment|01701\n",
      "925     927|23|M|programmer|55428\n",
      "926        928|21|M|student|55408\n",
      "927      929|44|M|scientist|53711\n",
      "928      930|28|F|scientist|07310\n",
      "929       931|60|M|educator|33556\n",
      "930       932|58|M|educator|06437\n",
      "931        933|28|M|student|48105\n",
      "932       934|61|M|engineer|22902\n",
      "933         935|42|M|doctor|66221\n",
      "934          936|24|M|other|32789\n",
      "935       937|48|M|educator|98072\n",
      "936     938|38|F|technician|55038\n",
      "937        939|26|F|student|33319\n",
      "938  940|32|M|administrator|02215\n",
      "939        941|20|M|student|97229\n",
      "940      942|48|F|librarian|78209\n",
      "941        943|22|M|student|77841\n",
      "\n",
      "[942 rows x 1 columns]\n"
     ]
    }
   ],
   "source": [
    "df1=pd.read_csv('C:\\\\Users\\\\Administrator\\\\u.user')\n",
    "print(df1)\n",
    "df1.to_csv(943)"
   ]
  },
  {
   "cell_type": "code",
   "execution_count": 11,
   "metadata": {},
   "outputs": [
    {
     "data": {
      "text/plain": [
       "0"
      ]
     },
     "execution_count": 11,
     "metadata": {},
     "output_type": "execute_result"
    }
   ],
   "source": [
    "round(0.5)-round(-0.5)"
   ]
  },
  {
   "cell_type": "code",
   "execution_count": null,
   "metadata": {},
   "outputs": [],
   "source": []
  }
 ],
 "metadata": {
  "kernelspec": {
   "display_name": "Python 3",
   "language": "python",
   "name": "python3"
  },
  "language_info": {
   "codemirror_mode": {
    "name": "ipython",
    "version": 3
   },
   "file_extension": ".py",
   "mimetype": "text/x-python",
   "name": "python",
   "nbconvert_exporter": "python",
   "pygments_lexer": "ipython3",
   "version": "3.6.5"
  }
 },
 "nbformat": 4,
 "nbformat_minor": 2
}
